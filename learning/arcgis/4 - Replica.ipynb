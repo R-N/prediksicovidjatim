{
 "cells": [
  {
   "cell_type": "markdown",
   "metadata": {},
   "source": [
    "Load environment variable from .env file with python-dotenv package"
   ]
  },
  {
   "cell_type": "code",
   "execution_count": 1,
   "metadata": {},
   "outputs": [],
   "source": [
    "import os\n",
    "from dotenv import load_dotenv # add this line\n",
    "\n",
    "load_dotenv() # add this line\n",
    "\n",
    "arcgis_user = os.getenv(\"ARCGIS_USER\")\n",
    "arcgis_pass = os.getenv(\"ARCGIS_PASS\")\n",
    "arcgis_portal = os.getenv(\"ARCGIS_PORTAL\")"
   ]
  },
  {
   "cell_type": "markdown",
   "metadata": {},
   "source": [
    "Make GIS object"
   ]
  },
  {
   "cell_type": "code",
   "execution_count": 2,
   "metadata": {},
   "outputs": [
    {
     "data": {
      "text/html": [
       "GIS @ <a href=\"https://pcovidjatim.maps.arcgis.com\">https://pcovidjatim.maps.arcgis.com</a>"
      ],
      "text/plain": [
       "GIS @ https://pcovidjatim.maps.arcgis.com version:8.1"
      ]
     },
     "execution_count": 2,
     "metadata": {},
     "output_type": "execute_result"
    }
   ],
   "source": [
    "from arcgis.gis import GIS\n",
    "gis = GIS(arcgis_portal, arcgis_user, arcgis_pass)\n",
    "gis"
   ]
  },
  {
   "cell_type": "markdown",
   "metadata": {},
   "source": [
    "Load jatim layer item by id"
   ]
  },
  {
   "cell_type": "code",
   "execution_count": 3,
   "metadata": {},
   "outputs": [
    {
     "data": {
      "text/html": [
       "<div class=\"item_container\" style=\"height: auto; overflow: hidden; border: 1px solid #cfcfcf; border-radius: 2px; background: #f6fafa; line-height: 1.21429em; padding: 10px;\">\n",
       "                    <div class=\"item_left\" style=\"width: 210px; float: left;\">\n",
       "                       <a href='https://pcovidjatim.maps.arcgis.com/home/item.html?id=2e29df69a57d4ca59f5c2a9fdf11217f' target='_blank'>\n",
       "                        <img src='data:image/png;base64,iVBORw0KGgoAAAANSUhEUgAAAMgAAACFCAYAAAAenrcsAAALGklEQVR4Xu3deVCU5wHHcf/uP51O2z+adjqdxsm0ieZoEjNJNB5JFCNEhQiIQAQUBGW5lpvlECMBRU5BV065RKM2xhxqtIlRUVSI8UAERc4IorYxRpTFX5/3ISDutE8Du6mov8/Mjuy75x/vd5/n2fdFxoCI/qsx5huI6C4GQqTAQIgUGAiRAgMhUmAgRAoMhEiBgRApMBAiBQZCpMBAiBQYCJECAyFSYCBECgyESIGBECkwECIFBkKkwECIFBgIkQIDIVJgIEQKDIRIgYEQKTAQIgUGQqTAQIgUGAiRAgMhUmAgRAoMhEiBgRApMBAiBQZCpMBAiBQYCJECA3lIdXd348aNG+abaZgYCJECAyFSYCCjxA83e2Aymcw3033GQEaB6qNHEZBVhbySreY3DVtHRwc6OzvNN9MIMZBR4NKlTvgHhqL7Srf5TcOmLcw5ElkPA3nI7N+/H9evXzffTCPEQIgUGAiRAgMhUmAgRAoMhEiBgRApMBAiBQZCpMBAiBQYCJECAyFSYCBECgzkZ2Ay9Q2eUdvb22t2Kz1IGIiVdXVfgXtMBd41VGDHoRZMco4V266Z323QnTt3zDf9X+iD/LH70x347p/9p9jfr/cx2jEQK9uyYzdCC+oRWXxOXqJLzmOqWxI2FqzHguBMeMZvw/yoSoRHxcHXd8ng4y53dWGizXyMe2U2/vD40/jLS7MwYdo8PCWu/+LXf0JO7jr88rd/xPhJDnh5ljeCso9gsksiTp+sHfLqP01KRh5iKtoQWVQPXdZhePsFDt6mdWIei/n1RwkDsbKE1Ub4pR9E1MaGwUjiKsXOWNqKSfYBSNhyCbN80jBjUSrcVuzFiTPncfJELXSpn8FQ0Yq4TW3wSd4Dv7Sv5PWY8hbMCylEVFkL5urWY/nWLrGtWTx/IxxCiuAakIy6+nPo6emRr6/tzKY+9Q7dcPY0vPSrsMG4DlVVVXBZsADe3j64du0a2jou48yZM/fcv7m5+Z7rjxIGYmUNLd2YMj8W/llVCC+sk4HM9EpCQHY1bDxXInZTq9wWkH0YQetPYElEGpZlHEKUjKle7viOwfmIr2yX17VPeF3mIYQVnMGcZVkwlDeJUakR3ssrsXz5Chw+fFi+bk/PTTi4LJI/a5H09fUN65N/z+f7cP37G8N+3MOOgVhZSk4Fwosb5Agya1EyFiZsR/C6Gniu2IkQ4wk5rTGIUcEpJF9eXxa1Bim5m+V6ZZqLAYtTD+Gd8EpElFyEvrARnkl74ZdZDUPpBSSvzsCuTz/C7r0HsXJVJk6dPo2bN2/K171+/XukFOxBaVk5amtrYTQa5YjQa7ojp00/xfmGs5ixIByf7tpnftMji4FYQJvWdIm1w8DPukA9IkuaBqdWAxdtWvTiDE+5HtFGiDliqqQXo8c7gevhs2ofokpbkJwYI59H+9YrLT0dR48dR11dHc7Wn8X5xkbMsncdfJ36+nr588/ySf9zPOcDjIGM1B0TgtZ8Bs/39yF3Ww3CE9LwmnM0pjqFihGi+cc4GhAtPvlD80/BPtCIV+xD4B63FfPDiuEaU4nE7Vfw+DNT8G78drj5RZu/Ao0CDGSE2js6EFP4tVwn9Meg/VuPwJxjcNQXIbqsCSHrv4ZzeDHG/s1GjiLa7QHZR8T2Wth6rxZrimw5qsSI++pWbjJ/CRoFGMgI9Zluwz9pK2IrmhG/uR02HiswL9gIBzFtCs07DTvfDPit+VIGYBD3sfVOxdK0/dBv+AYzxdpkpkciPJbvgJO+QH4rFZlaKdcRNLowEAskpedjfmQF7HxWi4X4cczxzxEBnJALdC2OgLXVcnSJrWiV32BpsWjfbDmLKZY29dIuLhFlsPVJRVj2l7jc+a35S/xPt27dMt9EVsRALHDkqz3wz7sg1hwXEZR7HC/NXAxD2UV5rGP20iwxsnTAJbIMPimfi6lWCaa7JyCiqF4e1wgT6xJd1hE4hRbIxwevq8VM3xy46N5HQWGxfP7B01RMPUjPKcR317rlpbq6GuU7qxGd+SHCjLU4dHA/Tp44PuSdkbUwEAvt+Hg3dJkH5NRKO17hnbwbs/0ysCzzCF5zDId/xgF4rdiJSDGqxIgR423fNDz7uhv+PH4yxk11l1O0od94+aUfQJCIZfrClUjP3oClAeHQiXWLdjwkUPw7eD8xXRv3qj1+89hYeT2i8Cwm2C5DTML75m+RLMBALNTbexuGgmNioX1RLr7D8k6JhfpRjHvNGcFiVNEuT01ykqNKVEmjXKRrUyt9fh2mOUfAX0T1tp92ALBZjiTOEeXyebQpW9D6b+QpIdqULbr0PGwXp8jHL4zfLr8AGDzoKKZyEUVnxdrnpBiZzqDh/KN75NvaGIgFbF31eGuuC1wNW+QIoe2sUWKd4RiSj+keKXjhDXcx9arp377xHILFTv3Y2OcwT5+PMWPG4MW3fPCmWzwSPujEEy/YwD64EMvECBK9sVGORM+LxzsEGeXaRYvqDdc4LBHTtaGnsfil/kNevFP2ylFmss0887dJFmAgI7SxKA+J5XUwbGqD3ZI0uZO7x1TCLXabmEo14S2vZATlHIObYTPGT5wr1yDazq2tS+IrOzA/olTs4I1YtPITeRpJ3OZ2Mf1Kh0fihzIwbWRJ3HYZkx0j5ILf1m+tDEGbymm3+675CnMDxXvY2iVGqRoxCmWIUewCVpSdwq2b/MtS1sJAhqmxqR0hucd+PO7Rf7bum+KTXZs+jZ9oLwPQPuF1mVWYYOMl1hgteGb6EkxxDMPipM/kY+IqW8UiPlM+dmAk0I6FTHQIQcLmbwe3DUyftNCGbtMW+vLnojo88YqjPMtXl1Ulvy6OTs4zf8tkAQYyTIeOHIfHe7uwKOUL6PPqEGgUn/5br+FXv39SzP9PQzt6/m7sB3KRHl3RLmNZnPQJXKI3y0W6dqrJNJcYOWUautNr1+cF58m1TFRJkxyZ4sRI4xRWIo+dDL2vvL+Iy843E7Hl2nGY/ii19coGK/yNEbqLgQxT/5myd8Ti3IT4+HhcuXoVbW1t2LJ9p5gC7ZOLZG2h/tfxzyG3cIuYSpWJ0SJbrFEa5TpFC8FelyNDGLrDawv0599wQ1hhPfwjV+HZp5+EnUcsvN77+J41x8BF+0ZLW6jfPZJ/Dj4ZNbjUdsH8LZMFGIgV/evqZdQcPwZj8Ra0tQz9JqkPV7rasW5tOlJWxqP4w2r4GjaINUQBQgsbxGj0JVz8k+HkmyjvO9SufQewdtMBeK06iPDigSlZgzwTWJu2GcQUTtsmfz8kIOeex5LlGMh9IH+pyWRCn/j3aPVRfHupUx4U1H4XY6jM3EK8OtsfLa3t8ra1eWXQF/SvQd4JNN5di/wYiEdUPj7a8fd7noMsw0BGsdu3buFSR+s94Vzt7sQnu7+Ad2gyPBM/QrS2ZiltQkRxo5iencNsB+chz0CWYiAPqIH/NWXqjDlwXxyIVdnFWKILQ8DaGrxu54offuBXvdbAQB5g/+kXpn433g4hYho2a6HB/CYaAQbyENGC0X4F93Zvn7jwL91aAwMhUmAgRAoMhEiBgRApMBAiBQZCpMBAiBQYCJECAyFSYCBECgyESIGBECkwECIFBkKkwECIFBgIkQIDIVJgIEQKDIRIgYEQKTAQIgUGQqTAQIgUGAiRAgMhUmAgRAoMhEiBgRApMBAiBQZCpMBAiBQYCJECAyFSYCBECgyESIGBECkwECIFBkKkwECIFBgIkQIDIVJgIEQKDIRIgYEQKTAQIgUGQqTAQIgUGAiRAgMhUmAgRAoMhEiBgRAp/BvaoAom3pijYwAAAABJRU5ErkJggg==' width='200' height='133' class=\"itemThumbnail\">\n",
       "                       </a>\n",
       "                    </div>\n",
       "\n",
       "                    <div class=\"item_right\"     style=\"float: none; width: auto; overflow: hidden;\">\n",
       "                        <a href='https://pcovidjatim.maps.arcgis.com/home/item.html?id=2e29df69a57d4ca59f5c2a9fdf11217f' target='_blank'><b>Jawa Timur</b>\n",
       "                        </a>\n",
       "                        <br/><img src='https://pcovidjatim.maps.arcgis.com/home/js/jsapi/esri/css/images/item_type_icons/featureshosted16.png' style=\"vertical-align:middle;\">Feature Layer Collection by prediksicovidjatim\n",
       "                        <br/>Last Modified: June 26, 2020\n",
       "                        <br/>0 comments, 11 views\n",
       "                    </div>\n",
       "                </div>\n",
       "                "
      ],
      "text/plain": [
       "<Item title:\"Jawa Timur\" type:Feature Layer Collection owner:prediksicovidjatim>"
      ]
     },
     "execution_count": 3,
     "metadata": {},
     "output_type": "execute_result"
    }
   ],
   "source": [
    "jatim_id = '2e29df69a57d4ca59f5c2a9fdf11217f'\n",
    "jatim = gis.content.get(jatim_id)\n",
    "jatim"
   ]
  },
  {
   "cell_type": "markdown",
   "metadata": {},
   "source": [
    "Create feature layer collection"
   ]
  },
  {
   "cell_type": "code",
   "execution_count": 8,
   "metadata": {},
   "outputs": [
    {
     "data": {
      "text/plain": [
       "<FeatureLayerCollection url:\"https://services2.arcgis.com/gxevpFKXaRT0UMCs/arcgis/rest/services/Jawa_Timur/FeatureServer\">"
      ]
     },
     "execution_count": 8,
     "metadata": {},
     "output_type": "execute_result"
    }
   ],
   "source": [
    "import arcgis.features\n",
    "#jatim_flc = arcgis.features.FeatureLayerCollection(url, gis)\n",
    "jatim_flc = arcgis.features.FeatureLayerCollection.fromitem(jatim)\n",
    "jatim_flc"
   ]
  },
  {
   "cell_type": "code",
   "execution_count": 10,
   "metadata": {},
   "outputs": [
    {
     "data": {
      "text/plain": [
       "[<FeatureLayer url:\"https://services2.arcgis.com/gxevpFKXaRT0UMCs/arcgis/rest/services/Jawa_Timur/FeatureServer/0\">]"
      ]
     },
     "execution_count": 10,
     "metadata": {},
     "output_type": "execute_result"
    }
   ],
   "source": [
    "jatim_flc.layers"
   ]
  },
  {
   "cell_type": "code",
   "execution_count": 12,
   "metadata": {},
   "outputs": [
    {
     "data": {
      "text/plain": [
       "True"
      ]
     },
     "execution_count": 12,
     "metadata": {},
     "output_type": "execute_result"
    }
   ],
   "source": [
    "jatim_flc.properties.syncEnabled"
   ]
  },
  {
   "cell_type": "code",
   "execution_count": 13,
   "metadata": {},
   "outputs": [
    {
     "data": {
      "text/plain": [
       "{\n",
       "  \"supportsAsync\": true,\n",
       "  \"supportsRegisteringExistingData\": true,\n",
       "  \"supportsSyncDirectionControl\": true,\n",
       "  \"supportsPerLayerSync\": true,\n",
       "  \"supportsPerReplicaSync\": true,\n",
       "  \"supportsSyncModelNone\": true,\n",
       "  \"supportsRollbackOnFailure\": true,\n",
       "  \"supportsAttachmentsSyncDirection\": true\n",
       "}"
      ]
     },
     "execution_count": 13,
     "metadata": {},
     "output_type": "execute_result"
    }
   ],
   "source": [
    "jatim_flc.properties.syncCapabilities"
   ]
  },
  {
   "cell_type": "markdown",
   "metadata": {},
   "source": [
    "We need sync and extract capability"
   ]
  },
  {
   "cell_type": "code",
   "execution_count": 14,
   "metadata": {},
   "outputs": [
    {
     "data": {
      "text/plain": [
       "'Create,Delete,Query,Update,Editing,Extract,Sync,ChangeTracking'"
      ]
     },
     "execution_count": 14,
     "metadata": {},
     "output_type": "execute_result"
    }
   ],
   "source": [
    "jatim_flc.properties.capabilities"
   ]
  },
  {
   "cell_type": "markdown",
   "metadata": {},
   "source": [
    "List existing replicas"
   ]
  },
  {
   "cell_type": "code",
   "execution_count": 9,
   "metadata": {},
   "outputs": [
    {
     "data": {
      "text/plain": [
       "0"
      ]
     },
     "execution_count": 9,
     "metadata": {},
     "output_type": "execute_result"
    }
   ],
   "source": [
    "replica_list = jatim_flc.replicas.get_list()\n",
    "len(replica_list)"
   ]
  },
  {
   "cell_type": "markdown",
   "metadata": {},
   "source": [
    "Calculate the bounding box to make geometry filter"
   ]
  },
  {
   "cell_type": "code",
   "execution_count": 16,
   "metadata": {},
   "outputs": [
    {
     "data": {
      "text/plain": [
       "'12345148.297,-981315.428,12942412.765,-562631.987'"
      ]
     },
     "execution_count": 16,
     "metadata": {},
     "output_type": "execute_result"
    }
   ],
   "source": [
    "extents = jatim_flc.properties['fullExtent']\n",
    "#csv?\n",
    "extents_str = \",\".join(format(x, \"10.3f\") for x in [extents['xmin'],extents['ymin'],extents['xmax'], extents['ymax']])\n",
    "extents_str"
   ]
  },
  {
   "cell_type": "markdown",
   "metadata": {},
   "source": [
    "Create geometry filter (it's a dict)"
   ]
  },
  {
   "cell_type": "code",
   "execution_count": 18,
   "metadata": {},
   "outputs": [
    {
     "data": {
      "text/plain": [
       "{'geometryType': 'esriGeometryEnvelope',\n",
       " 'geometry': '12345148.297,-981315.428,12942412.765,-562631.987'}"
      ]
     },
     "execution_count": 18,
     "metadata": {},
     "output_type": "execute_result"
    }
   ],
   "source": [
    "geom_filter = {'geometryType':'esriGeometryEnvelope'}\n",
    "geom_filter.update({'geometry':extents_str})\n",
    "geom_filter"
   ]
  },
  {
   "cell_type": "markdown",
   "metadata": {},
   "source": [
    "Create replica"
   ]
  },
  {
   "cell_type": "code",
   "execution_count": 20,
   "metadata": {},
   "outputs": [
    {
     "data": {
      "text/plain": [
       "{'replicaName': 'jatim_replica_1',\n",
       " 'replicaID': '6d61a1f6-21a1-4b3e-8fee-b381f7706cd0',\n",
       " 'targetType': 'server',\n",
       " 'transportType': 'esriTransportTypeUrl',\n",
       " 'responseUrl': 'https://services2.arcgis.com/gxevpFKXaRT0UMCs/arcgis/rest/services/Jawa_Timur/FeatureServer/replicafiles/82ae459390f14e9fbc971f5f3f8ad040.geodatabase'}"
      ]
     },
     "execution_count": 20,
     "metadata": {},
     "output_type": "execute_result"
    }
   ],
   "source": [
    "replica1 = jatim_flc.replicas.create( replica_name = 'jatim_replica_1',\n",
    "                                      layers='0',\n",
    "                                      geometry_filter=geom_filter,\n",
    "                                      sync_model=\"perLayer\",\n",
    "                                      target_type=\"server\",\n",
    "                                      data_format=\"sqlite\",\n",
    "                                      out_path=r'/arcgis/home')\n",
    "replica1"
   ]
  },
  {
   "cell_type": "markdown",
   "metadata": {},
   "source": [
    "So.. what's a replica for?"
   ]
  },
  {
   "cell_type": "code",
   "execution_count": 21,
   "metadata": {},
   "outputs": [
    {
     "ename": "Exception",
     "evalue": "dict layers must have 'type' and 'url'",
     "output_type": "error",
     "traceback": [
      "\u001b[1;31m---------------------------------------------------------------------------\u001b[0m",
      "\u001b[1;31mException\u001b[0m                                 Traceback (most recent call last)",
      "\u001b[1;32m<ipython-input-21-d5384beaecc0>\u001b[0m in \u001b[0;36m<module>\u001b[1;34m\u001b[0m\n\u001b[0;32m      1\u001b[0m \u001b[0mmap\u001b[0m \u001b[1;33m=\u001b[0m \u001b[0mgis\u001b[0m\u001b[1;33m.\u001b[0m\u001b[0mmap\u001b[0m\u001b[1;33m(\u001b[0m\u001b[1;34m\"Jawa Timur\"\u001b[0m\u001b[1;33m,\u001b[0m \u001b[0mzoomlevel\u001b[0m\u001b[1;33m=\u001b[0m\u001b[1;36m8\u001b[0m\u001b[1;33m)\u001b[0m\u001b[1;33m\u001b[0m\u001b[1;33m\u001b[0m\u001b[0m\n\u001b[1;32m----> 2\u001b[1;33m \u001b[0mmap\u001b[0m\u001b[1;33m.\u001b[0m\u001b[0madd_layer\u001b[0m\u001b[1;33m(\u001b[0m\u001b[0mreplica1\u001b[0m\u001b[1;33m)\u001b[0m\u001b[1;33m\u001b[0m\u001b[1;33m\u001b[0m\u001b[0m\n\u001b[0m\u001b[0;32m      3\u001b[0m \u001b[0mmap\u001b[0m\u001b[1;33m\u001b[0m\u001b[1;33m\u001b[0m\u001b[0m\n",
      "\u001b[1;32mC:\\ProgramData\\Anaconda3\\lib\\site-packages\\arcgis\\widgets\\_mapview\\_mapview.py\u001b[0m in \u001b[0;36madd_layer\u001b[1;34m(self, item, options)\u001b[0m\n\u001b[0;32m   1051\u001b[0m              \u001b[0m_is_geoenabled\u001b[0m\u001b[1;33m(\u001b[0m\u001b[0mitem\u001b[0m\u001b[1;33m)\u001b[0m\u001b[1;33m:\u001b[0m\u001b[1;33m\u001b[0m\u001b[1;33m\u001b[0m\u001b[0m\n\u001b[0;32m   1052\u001b[0m             \u001b[0mitem\u001b[0m \u001b[1;33m=\u001b[0m \u001b[0mitem\u001b[0m\u001b[1;33m.\u001b[0m\u001b[0mspatial\u001b[0m\u001b[1;33m.\u001b[0m\u001b[0mto_feature_collection\u001b[0m\u001b[1;33m(\u001b[0m\u001b[1;33m)\u001b[0m\u001b[1;33m\u001b[0m\u001b[1;33m\u001b[0m\u001b[0m\n\u001b[1;32m-> 1053\u001b[1;33m         \u001b[0mself\u001b[0m\u001b[1;33m.\u001b[0m\u001b[0m_add_layer_to_widget\u001b[0m\u001b[1;33m(\u001b[0m\u001b[0mitem\u001b[0m\u001b[1;33m,\u001b[0m \u001b[0moptions\u001b[0m\u001b[1;33m)\u001b[0m\u001b[1;33m\u001b[0m\u001b[1;33m\u001b[0m\u001b[0m\n\u001b[0m\u001b[0;32m   1054\u001b[0m \u001b[1;33m\u001b[0m\u001b[0m\n\u001b[0;32m   1055\u001b[0m     \u001b[1;32mdef\u001b[0m \u001b[0m_add_layer_to_webmap\u001b[0m\u001b[1;33m(\u001b[0m\u001b[0mself\u001b[0m\u001b[1;33m,\u001b[0m \u001b[0mitem\u001b[0m\u001b[1;33m,\u001b[0m \u001b[0moptions\u001b[0m\u001b[1;33m)\u001b[0m\u001b[1;33m:\u001b[0m\u001b[1;33m\u001b[0m\u001b[1;33m\u001b[0m\u001b[0m\n",
      "\u001b[1;32mC:\\ProgramData\\Anaconda3\\lib\\site-packages\\arcgis\\widgets\\_mapview\\_mapview.py\u001b[0m in \u001b[0;36m_add_layer_to_widget\u001b[1;34m(self, item, options)\u001b[0m\n\u001b[0;32m   1118\u001b[0m             \u001b[1;34m\"\"\"Must have 'type' and 'url' in keys. Adds to notype_layers\"\"\"\u001b[0m\u001b[1;33m\u001b[0m\u001b[1;33m\u001b[0m\u001b[0m\n\u001b[0;32m   1119\u001b[0m             \u001b[1;32mif\u001b[0m \u001b[1;33m(\u001b[0m\u001b[1;34m\"type\"\u001b[0m \u001b[1;32mnot\u001b[0m \u001b[1;32min\u001b[0m \u001b[0mitem\u001b[0m\u001b[1;33m)\u001b[0m \u001b[1;32mor\u001b[0m \u001b[1;33m(\u001b[0m\u001b[1;34m\"url\"\u001b[0m \u001b[1;32mnot\u001b[0m \u001b[1;32min\u001b[0m \u001b[0mitem\u001b[0m\u001b[1;33m)\u001b[0m\u001b[1;33m:\u001b[0m\u001b[1;33m\u001b[0m\u001b[1;33m\u001b[0m\u001b[0m\n\u001b[1;32m-> 1120\u001b[1;33m                 \u001b[1;32mraise\u001b[0m \u001b[0mException\u001b[0m\u001b[1;33m(\u001b[0m\u001b[1;34m\"dict layers must have 'type' and 'url'\"\u001b[0m\u001b[1;33m)\u001b[0m\u001b[1;33m\u001b[0m\u001b[1;33m\u001b[0m\u001b[0m\n\u001b[0m\u001b[0;32m   1121\u001b[0m             \u001b[1;32mif\u001b[0m \u001b[1;34m\"renderer\"\u001b[0m \u001b[1;32min\u001b[0m \u001b[0moptions\u001b[0m\u001b[1;33m:\u001b[0m\u001b[1;33m\u001b[0m\u001b[1;33m\u001b[0m\u001b[0m\n\u001b[0;32m   1122\u001b[0m                 \u001b[0mitem\u001b[0m\u001b[1;33m[\u001b[0m\u001b[1;34m\"renderer\"\u001b[0m\u001b[1;33m]\u001b[0m \u001b[1;33m=\u001b[0m \u001b[0moptions\u001b[0m\u001b[1;33m[\u001b[0m\u001b[1;34m\"renderer\"\u001b[0m\u001b[1;33m]\u001b[0m\u001b[1;33m\u001b[0m\u001b[1;33m\u001b[0m\u001b[0m\n",
      "\u001b[1;31mException\u001b[0m: dict layers must have 'type' and 'url'"
     ]
    }
   ],
   "source": [
    "map = gis.map(\"Jawa Timur\", zoomlevel=8)\n",
    "map.add_layer(replica1)\n",
    "map"
   ]
  },
  {
   "cell_type": "markdown",
   "metadata": {},
   "source": [
    "Eh. A replica of a layer can't be used as a layer. What is it for?"
   ]
  },
  {
   "cell_type": "code",
   "execution_count": null,
   "metadata": {},
   "outputs": [],
   "source": []
  }
 ],
 "metadata": {
  "kernelspec": {
   "display_name": "Python 3",
   "language": "python",
   "name": "python3"
  },
  "language_info": {
   "codemirror_mode": {
    "name": "ipython",
    "version": 3
   },
   "file_extension": ".py",
   "mimetype": "text/x-python",
   "name": "python",
   "nbconvert_exporter": "python",
   "pygments_lexer": "ipython3",
   "version": "3.7.6"
  }
 },
 "nbformat": 4,
 "nbformat_minor": 4
}
