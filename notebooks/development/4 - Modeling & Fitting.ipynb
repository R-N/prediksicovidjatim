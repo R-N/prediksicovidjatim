{
 "cells": [
  {
   "cell_type": "markdown",
   "metadata": {},
   "source": [
    "# Modeling & Fitting"
   ]
  },
  {
   "cell_type": "code",
   "execution_count": 1,
   "metadata": {},
   "outputs": [],
   "source": [
    "import os\n",
    "import sys\n",
    "sys.path.insert(0, \"../../\")\n",
    "\n",
    "import mpld3\n",
    "mpld3.enable_notebook()\n",
    "\n",
    "import warnings\n",
    "warnings.filterwarnings('ignore')\n",
    "\n",
    "from core import util, config, database\n",
    "from core.data.model import ModelDataRepo\n",
    "from core.data.model.entities import *\n",
    "\n",
    "database.init()\n",
    "config.init_plot()"
   ]
  },
  {
   "cell_type": "markdown",
   "metadata": {},
   "source": [
    "### Get Data"
   ]
  },
  {
   "cell_type": "code",
   "execution_count": 2,
   "metadata": {},
   "outputs": [],
   "source": [
    "selected_kabko = \"KOTA BLITAR\"\n",
    "kabko = ModelDataRepo.get_kabko_full(selected_kabko)"
   ]
  },
  {
   "cell_type": "code",
   "execution_count": 3,
   "metadata": {},
   "outputs": [
    {
     "data": {
      "text/plain": [
       "[(0, 10), (70, 11)]"
      ]
     },
     "execution_count": 3,
     "metadata": {},
     "output_type": "execute_result"
    }
   ],
   "source": [
    "kabko._kapasitas_rs"
   ]
  },
  {
   "cell_type": "markdown",
   "metadata": {},
   "source": [
    "### Make Model"
   ]
  },
  {
   "cell_type": "code",
   "execution_count": 4,
   "metadata": {},
   "outputs": [],
   "source": [
    "from core.modeling import SeicrdRlcModel\n",
    "\n",
    "mod = SeicrdRlcModel(kabko)"
   ]
  },
  {
   "cell_type": "markdown",
   "metadata": {},
   "source": [
    "### Select Datsets to Use for Fitting"
   ]
  },
  {
   "cell_type": "code",
   "execution_count": 5,
   "metadata": {},
   "outputs": [],
   "source": [
    "used_datasets = [\n",
    "    #\"infectious\", \n",
    "    \"critical_cared\", \n",
    "    \"infectious_all\", \n",
    "    \"recovered\", \n",
    "    \"dead\",\n",
    "    #\"infected\"\n",
    "]\n",
    "mod.use_datasets(used_datasets)"
   ]
  },
  {
   "cell_type": "markdown",
   "metadata": {},
   "source": [
    "### List Variables that Can be Fitted"
   ]
  },
  {
   "cell_type": "code",
   "execution_count": 6,
   "metadata": {},
   "outputs": [],
   "source": [
    "varying_init = [\n",
    "    \"death_rate_over\",\n",
    "    \"exposed_rate_over\", \n",
    "    \"kapasitas_rs_mul\", \n",
    "    \"test_coverage_max\", \n",
    "    \"test_coverage_0\", \"test_coverage_increase\", \n",
    "    \"infectious_rate\", \n",
    "    \"critical_rate\", \"critical_chance\",\n",
    "    \"death_rate_normal\", \"death_chance_normal\", \n",
    "    \"k\", \"r_0\", \"r_1\", \"r_2\"\n",
    "]"
   ]
  },
  {
   "cell_type": "markdown",
   "metadata": {},
   "source": [
    "### Select Variables to Fit"
   ]
  },
  {
   "cell_type": "code",
   "execution_count": 7,
   "metadata": {},
   "outputs": [],
   "source": [
    "varying_now = [\n",
    "    #\"death_rate_over\",\n",
    "    #\"exposed_rate_over\", \n",
    "    #\"kapasitas_rs_mul\", \n",
    "    #\"test_coverage_max\", \n",
    "    #\"test_coverage_0\", \"test_coverage_increase\", \n",
    "    \"infectious_rate\", \n",
    "    \"critical_rate\", \"critical_chance\",\n",
    "    \"death_rate_normal\", \"death_chance_normal\", \n",
    "    \"k\", \"r_0\", \"r_1\", \"r_2\"\n",
    "]\n",
    "unvary = [x for x in varying_init if x not in varying_now]"
   ]
  },
  {
   "cell_type": "markdown",
   "metadata": {},
   "source": [
    "### Fit!"
   ]
  },
  {
   "cell_type": "code",
   "execution_count": 8,
   "metadata": {},
   "outputs": [
    {
     "data": {
      "text/plain": [
       "<core.modeling.fitting_result.FittingResult at 0xc1a95c8>"
      ]
     },
     "execution_count": 8,
     "metadata": {},
     "output_type": "execute_result"
    }
   ],
   "source": [
    "result = mod.fit(test_splits=[], unvary=unvary)\n",
    "result"
   ]
  },
  {
   "cell_type": "markdown",
   "metadata": {},
   "source": [
    "### Fit Results"
   ]
  },
  {
   "cell_type": "markdown",
   "metadata": {},
   "source": [
    "Params Should Have \"standard error\" and \"relative error\" Columns. If they dont:\n",
    "1. A parameter might not be significant\n",
    "2. A parameter has hit its min/max limit and can't vary"
   ]
  },
  {
   "cell_type": "code",
   "execution_count": 9,
   "metadata": {
    "scrolled": true
   },
   "outputs": [
    {
     "data": {
      "text/html": [
       "<table><tr><th> name </th><th> value </th><th> standard error </th><th> relative error </th><th> initial value </th><th> min </th><th> max </th><th> vary </th></tr><tr><td> days </td><td>  128.000000 </td><td>  0.00000000 </td><td> (0.00%) </td><td> 128 </td><td>        -inf </td><td>         inf </td><td> False </td></tr><tr><td> population </td><td>  142798.000 </td><td>  0.00000000 </td><td> (0.00%) </td><td> 142798 </td><td>        -inf </td><td>         inf </td><td> False </td></tr><tr><td> infectious_rate </td><td>  0.07142857 </td><td>  0.00321722 </td><td> (4.50%) </td><td> 0.07142857142857144 </td><td>  0.07142857 </td><td>  0.33333333 </td><td> True </td></tr><tr><td> critical_chance </td><td>  0.62150181 </td><td>  0.15193997 </td><td> (24.45%) </td><td> 0.6215018053172853 </td><td>  0.01000000 </td><td>  0.66666667 </td><td> True </td></tr><tr><td> critical_rate </td><td>  0.08333333 </td><td>  0.00186491 </td><td> (2.24%) </td><td> 0.08333333333333355 </td><td>  0.08333333 </td><td>  0.14285714 </td><td> True </td></tr><tr><td> recovery_rate_normal </td><td>  0.11111111 </td><td>  0.00000000 </td><td> (0.00%) </td><td> 0.1111111111111111 </td><td>        -inf </td><td>         inf </td><td> False </td></tr><tr><td> recovery_rate_critical </td><td>  0.05384615 </td><td>  0.00646678 </td><td> (12.01%) </td><td> 0.053846153846154016 </td><td>  0.05384615 </td><td>  0.15384615 </td><td> True </td></tr><tr><td> death_chance_normal </td><td>  0.19535877 </td><td>  0.18201009 </td><td> (93.17%) </td><td> 0.19535877407153945 </td><td>  0.00500000 </td><td>  0.25000000 </td><td> True </td></tr><tr><td> death_rate_normal </td><td>  0.10000000 </td><td>  0.08943331 </td><td> (89.43%) </td><td> 0.10000000002992504 </td><td>  0.10000000 </td><td>  0.20000000 </td><td> True </td></tr><tr><td> death_chance_over </td><td>  1.00000000 </td><td>  0.00000000 </td><td> (0.00%) </td><td> 1.0 </td><td>        -inf </td><td>         inf </td><td> False </td></tr><tr><td> death_rate_over </td><td>  0.92726676 </td><td>  0.00000000 </td><td> (0.00%) </td><td> 0.9272667624379478 </td><td>  0.13333333 </td><td>  1.00000000 </td><td> False </td></tr><tr><td> exposed_rate_over </td><td>  1.50236559 </td><td>  0.00000000 </td><td> (0.00%) </td><td> 1.5023655885299796 </td><td>  0.00000000 </td><td>  2.00000000 </td><td> False </td></tr><tr><td> k </td><td>  2.50000000 </td><td>  0.00000000 </td><td> (0.00%) </td><td> 2.5 </td><td>        -inf </td><td>         inf </td><td> False </td></tr><tr><td> kapasitas_rs_mul </td><td>  1.00000000 </td><td>  0.00000000 </td><td> (0.00%) </td><td> 1.0 </td><td>  0.30000000 </td><td>  1.00000000 </td><td> False </td></tr><tr><td> test_coverage_0 </td><td>  0.25200192 </td><td>  0.00000000 </td><td> (0.00%) </td><td> 0.25200192080432254 </td><td>  0.10000000 </td><td>  0.30000000 </td><td> False </td></tr><tr><td> test_coverage_increase </td><td>  0.26555570 </td><td>  0.00000000 </td><td> (0.00%) </td><td> 0.2655556992834415 </td><td>  0.00000000 </td><td>  0.30000000 </td><td> False </td></tr><tr><td> test_coverage_max </td><td>  0.30000000 </td><td>  0.00000000 </td><td> (0.00%) </td><td> 0.3 </td><td>  0.30000000 </td><td>  0.70000000 </td><td> False </td></tr><tr><td> r_0 </td><td>  1.70383666 </td><td>  0.11111688 </td><td> (6.52%) </td><td> 1.7038366601358899 </td><td>  1.00000000 </td><td>  5.00000000 </td><td> True </td></tr></table>"
      ],
      "text/plain": [
       "Parameters([('days', <Parameter 'days', value=128 (fixed), bounds=[-inf:inf]>),\n",
       "            ('population',\n",
       "             <Parameter 'population', value=142798 (fixed), bounds=[-inf:inf]>),\n",
       "            ('infectious_rate',\n",
       "             <Parameter 'infectious_rate', value=0.07142857142857144 +/- 0.00322, bounds=[0.07142857142857142:0.3333333333333333]>),\n",
       "            ('critical_chance',\n",
       "             <Parameter 'critical_chance', value=0.6215018053172853 +/- 0.152, bounds=[0.01:0.6666666666666666]>),\n",
       "            ('critical_rate',\n",
       "             <Parameter 'critical_rate', value=0.08333333333333355 +/- 0.00186, bounds=[0.08333333333333333:0.14285714285714285]>),\n",
       "            ('recovery_rate_normal',\n",
       "             <Parameter 'recovery_rate_normal', value=0.1111111111111111 (fixed), bounds=[-inf:inf]>),\n",
       "            ('recovery_rate_critical',\n",
       "             <Parameter 'recovery_rate_critical', value=0.053846153846154016 +/- 0.00647, bounds=[0.05384615384615385:0.15384615384615385]>),\n",
       "            ('death_chance_normal',\n",
       "             <Parameter 'death_chance_normal', value=0.19535877407153945 +/- 0.182, bounds=[0.005:0.25]>),\n",
       "            ('death_rate_normal',\n",
       "             <Parameter 'death_rate_normal', value=0.10000000002992504 +/- 0.0894, bounds=[0.1:0.2]>),\n",
       "            ('death_chance_over',\n",
       "             <Parameter 'death_chance_over', value=1.0 (fixed), bounds=[-inf:inf]>),\n",
       "            ('death_rate_over',\n",
       "             <Parameter 'death_rate_over', value=0.9272667624379478 (fixed), bounds=[0.13333333333333333:1.0]>),\n",
       "            ('exposed_rate_over',\n",
       "             <Parameter 'exposed_rate_over', value=1.5023655885299796 (fixed), bounds=[0.0:2.0]>),\n",
       "            ('k', <Parameter 'k', value=2.5 (fixed), bounds=[-inf:inf]>),\n",
       "            ('kapasitas_rs_mul',\n",
       "             <Parameter 'kapasitas_rs_mul', value=1.0 (fixed), bounds=[0.3:1.0]>),\n",
       "            ('test_coverage_0',\n",
       "             <Parameter 'test_coverage_0', value=0.25200192080432254 (fixed), bounds=[0.1:0.3]>),\n",
       "            ('test_coverage_increase',\n",
       "             <Parameter 'test_coverage_increase', value=0.2655556992834415 (fixed), bounds=[0.0:0.3]>),\n",
       "            ('test_coverage_max',\n",
       "             <Parameter 'test_coverage_max', value=0.3 (fixed), bounds=[0.3:0.7]>),\n",
       "            ('r_0',\n",
       "             <Parameter 'r_0', value=1.7038366601358899 +/- 0.111, bounds=[1.0:5.0]>)])"
      ]
     },
     "execution_count": 9,
     "metadata": {},
     "output_type": "execute_result"
    }
   ],
   "source": [
    "result.fit_result.params"
   ]
  },
  {
   "cell_type": "markdown",
   "metadata": {},
   "source": [
    "### Model Scores"
   ]
  },
  {
   "cell_type": "code",
   "execution_count": 10,
   "metadata": {},
   "outputs": [],
   "source": [
    "import math"
   ]
  },
  {
   "cell_type": "code",
   "execution_count": 11,
   "metadata": {},
   "outputs": [],
   "source": [
    "if result.test_scorer:\n",
    "    flat_test_scorer = result.test_scorer.flatten()\n",
    "    print(\"Test scores\")\n",
    "    print(\"Max Error: \" + str(flat_test_scorer.max_error()))\n",
    "    print(\"MAE: \" + str(flat_test_scorer.mean_absolute_error()))\n",
    "    print(\"MSE: \" + str(flat_test_scorer.mean_sqaured_error()))\n",
    "    print(\"RMSE: \" + str(flat_test_scorer.root_mean_squared_error()))\n",
    "    print(\"RMSLE: \" + str(flat_test_scorer.root_mean_squared_log_error()))\n",
    "    print(\"Explained Variance: \" + str(flat_test_scorer.explained_variance_score()))\n",
    "    print(\"R2: \" + str(flat_test_scorer.r2_score()))\n",
    "    print()"
   ]
  },
  {
   "cell_type": "code",
   "execution_count": 12,
   "metadata": {},
   "outputs": [
    {
     "ename": "AttributeError",
     "evalue": "'list' object has no attribute 'flatten'",
     "output_type": "error",
     "traceback": [
      "\u001b[1;31m---------------------------------------------------------------------------\u001b[0m",
      "\u001b[1;31mAttributeError\u001b[0m                            Traceback (most recent call last)",
      "\u001b[1;32m<ipython-input-12-fed45f34186b>\u001b[0m in \u001b[0;36m<module>\u001b[1;34m\u001b[0m\n\u001b[1;32m----> 1\u001b[1;33m \u001b[0mflat_fit_scorer\u001b[0m \u001b[1;33m=\u001b[0m \u001b[0mresult\u001b[0m\u001b[1;33m.\u001b[0m\u001b[0mfit_scorer\u001b[0m\u001b[1;33m.\u001b[0m\u001b[0mflatten\u001b[0m\u001b[1;33m(\u001b[0m\u001b[1;33m)\u001b[0m\u001b[1;33m\u001b[0m\u001b[1;33m\u001b[0m\u001b[0m\n\u001b[0m\u001b[0;32m      2\u001b[0m \u001b[0mprint\u001b[0m\u001b[1;33m(\u001b[0m\u001b[1;34m\"Last fit scores\"\u001b[0m\u001b[1;33m)\u001b[0m\u001b[1;33m\u001b[0m\u001b[1;33m\u001b[0m\u001b[0m\n\u001b[0;32m      3\u001b[0m \u001b[0mprint\u001b[0m\u001b[1;33m(\u001b[0m\u001b[1;34m\"Max Error: \"\u001b[0m \u001b[1;33m+\u001b[0m \u001b[0mstr\u001b[0m\u001b[1;33m(\u001b[0m\u001b[0mflat_fit_scorer\u001b[0m\u001b[1;33m.\u001b[0m\u001b[0mmax_error\u001b[0m\u001b[1;33m(\u001b[0m\u001b[1;33m)\u001b[0m\u001b[1;33m)\u001b[0m\u001b[1;33m)\u001b[0m\u001b[1;33m\u001b[0m\u001b[1;33m\u001b[0m\u001b[0m\n\u001b[0;32m      4\u001b[0m \u001b[0mprint\u001b[0m\u001b[1;33m(\u001b[0m\u001b[1;34m\"MAE: \"\u001b[0m \u001b[1;33m+\u001b[0m \u001b[0mstr\u001b[0m\u001b[1;33m(\u001b[0m\u001b[0mflat_fit_scorer\u001b[0m\u001b[1;33m.\u001b[0m\u001b[0mmean_absolute_error\u001b[0m\u001b[1;33m(\u001b[0m\u001b[1;33m)\u001b[0m\u001b[1;33m)\u001b[0m\u001b[1;33m)\u001b[0m\u001b[1;33m\u001b[0m\u001b[1;33m\u001b[0m\u001b[0m\n\u001b[0;32m      5\u001b[0m \u001b[0mprint\u001b[0m\u001b[1;33m(\u001b[0m\u001b[1;34m\"MSE: \"\u001b[0m \u001b[1;33m+\u001b[0m \u001b[0mstr\u001b[0m\u001b[1;33m(\u001b[0m\u001b[0mflat_fit_scorer\u001b[0m\u001b[1;33m.\u001b[0m\u001b[0mmean_squared_error\u001b[0m\u001b[1;33m(\u001b[0m\u001b[1;33m)\u001b[0m\u001b[1;33m)\u001b[0m\u001b[1;33m)\u001b[0m\u001b[1;33m\u001b[0m\u001b[1;33m\u001b[0m\u001b[0m\n",
      "\u001b[1;32m~\\github\\prediksicovidjatim\\core\\modeling\\fitting_result.py\u001b[0m in \u001b[0;36mflatten\u001b[1;34m(self)\u001b[0m\n\u001b[0;32m     17\u001b[0m             \u001b[0mnp\u001b[0m\u001b[1;33m.\u001b[0m\u001b[0marray\u001b[0m\u001b[1;33m(\u001b[0m\u001b[1;33m[\u001b[0m\u001b[0mself\u001b[0m\u001b[1;33m.\u001b[0m\u001b[0mdata\u001b[0m\u001b[1;33m.\u001b[0m\u001b[0mflatten\u001b[0m\u001b[1;33m(\u001b[0m\u001b[1;33m)\u001b[0m\u001b[1;33m]\u001b[0m\u001b[1;33m)\u001b[0m\u001b[1;33m,\u001b[0m\u001b[1;33m\u001b[0m\u001b[1;33m\u001b[0m\u001b[0m\n\u001b[0;32m     18\u001b[0m             \u001b[0mnp\u001b[0m\u001b[1;33m.\u001b[0m\u001b[0marray\u001b[0m\u001b[1;33m(\u001b[0m\u001b[1;33m[\u001b[0m\u001b[0mself\u001b[0m\u001b[1;33m.\u001b[0m\u001b[0mpred\u001b[0m\u001b[1;33m.\u001b[0m\u001b[0mflatten\u001b[0m\u001b[1;33m(\u001b[0m\u001b[1;33m)\u001b[0m\u001b[1;33m]\u001b[0m\u001b[1;33m)\u001b[0m\u001b[1;33m,\u001b[0m\u001b[1;33m\u001b[0m\u001b[1;33m\u001b[0m\u001b[0m\n\u001b[1;32m---> 19\u001b[1;33m             \u001b[0mnp\u001b[0m\u001b[1;33m.\u001b[0m\u001b[0marray\u001b[0m\u001b[1;33m(\u001b[0m\u001b[1;33m[\u001b[0m\u001b[0mself\u001b[0m\u001b[1;33m.\u001b[0m\u001b[0mdely_conf\u001b[0m\u001b[1;33m.\u001b[0m\u001b[0mflatten\u001b[0m\u001b[1;33m(\u001b[0m\u001b[1;33m)\u001b[0m\u001b[1;33m]\u001b[0m\u001b[1;33m)\u001b[0m\u001b[1;33m,\u001b[0m\u001b[1;33m\u001b[0m\u001b[1;33m\u001b[0m\u001b[0m\n\u001b[0m\u001b[0;32m     20\u001b[0m             \u001b[0mnp\u001b[0m\u001b[1;33m.\u001b[0m\u001b[0marray\u001b[0m\u001b[1;33m(\u001b[0m\u001b[1;33m[\u001b[0m\u001b[0mself\u001b[0m\u001b[1;33m.\u001b[0m\u001b[0mdely_pred\u001b[0m\u001b[1;33m.\u001b[0m\u001b[0mflatten\u001b[0m\u001b[1;33m(\u001b[0m\u001b[1;33m)\u001b[0m\u001b[1;33m]\u001b[0m\u001b[1;33m)\u001b[0m\u001b[1;33m\u001b[0m\u001b[1;33m\u001b[0m\u001b[0m\n\u001b[0;32m     21\u001b[0m         )\n",
      "\u001b[1;31mAttributeError\u001b[0m: 'list' object has no attribute 'flatten'"
     ]
    }
   ],
   "source": [
    "flat_fit_scorer = result.fit_scorer.flatten()\n",
    "print(\"Last fit scores\")\n",
    "print(\"Max Error: \" + str(flat_fit_scorer.max_error()))\n",
    "print(\"MAE: \" + str(flat_fit_scorer.mean_absolute_error()))\n",
    "print(\"MSE: \" + str(flat_fit_scorer.mean_squared_error()))\n",
    "print(\"RMSE: \" + str(flat_fit_scorer.root_mean_squared_error()))\n",
    "print(\"RMSLE: \" + str(flat_fit_scorer.root_mean_squared_log_error()))\n",
    "print(\"Explained Variance: \" + str(flat_fit_scorer.explained_variance_score()))\n",
    "print(\"R2: \" + str(flat_fit_scorer.r2_score()))\n",
    "print()"
   ]
  },
  {
   "cell_type": "markdown",
   "metadata": {},
   "source": [
    "### Predict"
   ]
  },
  {
   "cell_type": "code",
   "execution_count": null,
   "metadata": {},
   "outputs": [],
   "source": [
    "values = dict(result.fit_result.values)\n",
    "values[\"days\"] += 30\n",
    "values[\"days\"]"
   ]
  },
  {
   "cell_type": "code",
   "execution_count": null,
   "metadata": {},
   "outputs": [],
   "source": [
    "model_result = mod.model(**values)"
   ]
  },
  {
   "cell_type": "markdown",
   "metadata": {},
   "source": [
    "### Plot!"
   ]
  },
  {
   "cell_type": "code",
   "execution_count": null,
   "metadata": {},
   "outputs": [],
   "source": [
    "from core.modeling import ModelPlotter\n",
    "\n",
    "plotter = ModelPlotter(model_result)"
   ]
  },
  {
   "cell_type": "code",
   "execution_count": null,
   "metadata": {},
   "outputs": [],
   "source": [
    "length = kabko.data_count + result.outbreak_shift\n",
    "length"
   ]
  },
  {
   "cell_type": "code",
   "execution_count": null,
   "metadata": {
    "scrolled": false
   },
   "outputs": [],
   "source": [
    "import matplotlib.pyplot as plt\n",
    "for d in used_datasets:\n",
    "    datasets = kabko.get_datasets([d], result.outbreak_shift)\n",
    "    plotter.plot(\n",
    "        plotter.plot_main_data, \n",
    "        datasets,\n",
    "        length\n",
    "    )\n",
    "    plt.show()"
   ]
  },
  {
   "cell_type": "code",
   "execution_count": null,
   "metadata": {},
   "outputs": [],
   "source": [
    "plotter.plot(plotter.plot_main_lite);"
   ]
  },
  {
   "cell_type": "code",
   "execution_count": null,
   "metadata": {},
   "outputs": [],
   "source": [
    "plotter.plot(plotter.plot_daily_lite);"
   ]
  },
  {
   "cell_type": "code",
   "execution_count": null,
   "metadata": {},
   "outputs": [],
   "source": [
    "plotter.plot(plotter.plot_r0);"
   ]
  },
  {
   "cell_type": "code",
   "execution_count": null,
   "metadata": {},
   "outputs": [],
   "source": [
    "plotter.plot(plotter.plot_mortality_rate);"
   ]
  },
  {
   "cell_type": "code",
   "execution_count": null,
   "metadata": {},
   "outputs": [],
   "source": [
    "plotter.plot(plotter.plot_over);"
   ]
  },
  {
   "cell_type": "code",
   "execution_count": null,
   "metadata": {},
   "outputs": [],
   "source": [
    "plotter.plot(plotter.plot_dead);"
   ]
  },
  {
   "cell_type": "code",
   "execution_count": null,
   "metadata": {
    "scrolled": false
   },
   "outputs": [],
   "source": [
    "plotter.plot(plotter.plot_healthcare);"
   ]
  },
  {
   "cell_type": "markdown",
   "metadata": {},
   "source": [
    "### Save Params"
   ]
  },
  {
   "cell_type": "markdown",
   "metadata": {},
   "source": [
    "Run code below ONLY if you want to save the parameters."
   ]
  },
  {
   "cell_type": "code",
   "execution_count": null,
   "metadata": {},
   "outputs": [],
   "source": [
    "ModelDataRepo.update_all(result.kabko, result.fit_result.params, result.outbreak_shift)"
   ]
  },
  {
   "cell_type": "markdown",
   "metadata": {},
   "source": [
    "### Confidence Interval"
   ]
  },
  {
   "cell_type": "markdown",
   "metadata": {},
   "source": [
    "This requires standard error to be present for each params."
   ]
  },
  {
   "cell_type": "markdown",
   "metadata": {},
   "source": [
    "result.fit_result.conf_interval()"
   ]
  },
  {
   "cell_type": "code",
   "execution_count": null,
   "metadata": {},
   "outputs": [],
   "source": []
  }
 ],
 "metadata": {
  "kernelspec": {
   "display_name": "Python 3",
   "language": "python",
   "name": "python3"
  },
  "language_info": {
   "codemirror_mode": {
    "name": "ipython",
    "version": 3
   },
   "file_extension": ".py",
   "mimetype": "text/x-python",
   "name": "python",
   "nbconvert_exporter": "python",
   "pygments_lexer": "ipython3",
   "version": "3.7.6"
  }
 },
 "nbformat": 4,
 "nbformat_minor": 4
}
