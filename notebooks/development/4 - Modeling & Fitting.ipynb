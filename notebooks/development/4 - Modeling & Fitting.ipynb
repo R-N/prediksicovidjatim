{
 "cells": [
  {
   "cell_type": "markdown",
   "metadata": {},
   "source": [
    "# Modeling & Fitting"
   ]
  },
  {
   "cell_type": "code",
   "execution_count": 1,
   "metadata": {},
   "outputs": [],
   "source": [
    "import os\n",
    "import sys\n",
    "sys.path.insert(0, \"../../\")\n",
    "\n",
    "import mpld3\n",
    "mpld3.enable_notebook()\n",
    "\n",
    "import warnings\n",
    "warnings.filterwarnings('ignore')\n",
    "\n",
    "from core import util, config, database\n",
    "from core.data.model import ModelDataRepo\n",
    "from core.data.model.entities import *\n",
    "\n",
    "database.init()\n",
    "config.init_plot()"
   ]
  },
  {
   "cell_type": "markdown",
   "metadata": {},
   "source": [
    "### Get Data"
   ]
  },
  {
   "cell_type": "code",
   "execution_count": 2,
   "metadata": {},
   "outputs": [],
   "source": [
    "selected_kabko = \"KOTA SURABAYA\"\n",
    "kabko = ModelDataRepo.get_kabko_full(selected_kabko)"
   ]
  },
  {
   "cell_type": "markdown",
   "metadata": {},
   "source": [
    "### Make Model"
   ]
  },
  {
   "cell_type": "code",
   "execution_count": 3,
   "metadata": {},
   "outputs": [],
   "source": [
    "from core.modeling import SeicrdRlcModel\n",
    "\n",
    "mod = SeicrdRlcModel(kabko)"
   ]
  },
  {
   "cell_type": "markdown",
   "metadata": {},
   "source": [
    "### Select Datsets to Use for Fitting"
   ]
  },
  {
   "cell_type": "code",
   "execution_count": 4,
   "metadata": {},
   "outputs": [],
   "source": [
    "used_datasets = [\n",
    "    #\"infectious\", \n",
    "    \"critical_cared\", \n",
    "    \"infectious_all\", \n",
    "    \"recovered\", \n",
    "    \"dead\",\n",
    "    #\"infected\"\n",
    "]\n",
    "mod.use_datasets(used_datasets)"
   ]
  },
  {
   "cell_type": "markdown",
   "metadata": {},
   "source": [
    "### List Variables that Can be Fitted"
   ]
  },
  {
   "cell_type": "code",
   "execution_count": 5,
   "metadata": {},
   "outputs": [],
   "source": [
    "varying_init = [\n",
    "    \"death_time_over\",\n",
    "    \"r_over\", \n",
    "    \"kapasitas_rs_mul\", \n",
    "    \"test_coverage_max\", \n",
    "    \"test_coverage_0\", \"test_coverage_increase\", \n",
    "    \"incubation_period\", \n",
    "    \"critical_time\", \"critical_chance\",\n",
    "    \"death_time_normal\", \"death_chance_normal\", \n",
    "    \"k\", \"r_0\", \"r_1\", \"r_2\"\n",
    "]"
   ]
  },
  {
   "cell_type": "markdown",
   "metadata": {},
   "source": [
    "### Select Variables to Fit"
   ]
  },
  {
   "cell_type": "code",
   "execution_count": 6,
   "metadata": {},
   "outputs": [],
   "source": [
    "varying_now = [\n",
    "    #\"death_time_over\",\n",
    "    #\"r_over\", \n",
    "    #\"kapasitas_rs_mul\", \n",
    "    #\"test_coverage_max\", \n",
    "    #\"test_coverage_0\", \"test_coverage_increase\", \n",
    "    \"incubation_period\", \n",
    "    \"critical_time\", \"critical_chance\",\n",
    "    \"death_time_normal\", \"death_chance_normal\", \n",
    "    \"k\", \"r_0\", \"r_1\", \"r_2\"\n",
    "]\n",
    "unvary = [x for x in varying_init if x not in varying_now]"
   ]
  },
  {
   "cell_type": "markdown",
   "metadata": {},
   "source": [
    "### Fit!"
   ]
  },
  {
   "cell_type": "code",
   "execution_count": null,
   "metadata": {},
   "outputs": [],
   "source": [
    "result = mod.fit(test_splits=[2], unvary=unvary)\n",
    "result"
   ]
  },
  {
   "cell_type": "markdown",
   "metadata": {},
   "source": [
    "### Fit Results"
   ]
  },
  {
   "cell_type": "markdown",
   "metadata": {},
   "source": [
    "Params Should Have \"standard error\" and \"relative error\" Columns. If they dont:\n",
    "1. A parameter might not be significant\n",
    "2. A parameter has hit its min/max limit and can't vary"
   ]
  },
  {
   "cell_type": "code",
   "execution_count": null,
   "metadata": {
    "scrolled": true
   },
   "outputs": [],
   "source": [
    "result.fit_result.params"
   ]
  },
  {
   "cell_type": "markdown",
   "metadata": {},
   "source": [
    "### Model Scores"
   ]
  },
  {
   "cell_type": "code",
   "execution_count": null,
   "metadata": {},
   "outputs": [],
   "source": [
    "result.test_scorer.mean_absolute_error()"
   ]
  },
  {
   "cell_type": "code",
   "execution_count": null,
   "metadata": {},
   "outputs": [],
   "source": [
    "result.test_scorer.explained_variance_score()"
   ]
  },
  {
   "cell_type": "code",
   "execution_count": null,
   "metadata": {},
   "outputs": [],
   "source": [
    "result.fit_scorer.mean_absolute_error()"
   ]
  },
  {
   "cell_type": "code",
   "execution_count": null,
   "metadata": {
    "scrolled": true
   },
   "outputs": [],
   "source": [
    "result.fit_scorer.explained_variance_score()"
   ]
  },
  {
   "cell_type": "markdown",
   "metadata": {},
   "source": [
    "### Predict"
   ]
  },
  {
   "cell_type": "code",
   "execution_count": null,
   "metadata": {},
   "outputs": [],
   "source": [
    "values = dict(result.fit_result.values)\n",
    "values[\"days\"] += 30\n",
    "model_result = mod.model(**values)"
   ]
  },
  {
   "cell_type": "markdown",
   "metadata": {},
   "source": [
    "### Plot!"
   ]
  },
  {
   "cell_type": "code",
   "execution_count": null,
   "metadata": {},
   "outputs": [],
   "source": [
    "from core.modeling import ModelPlotter\n",
    "\n",
    "plotter = ModelPlotter(model_result)"
   ]
  },
  {
   "cell_type": "code",
   "execution_count": null,
   "metadata": {},
   "outputs": [],
   "source": [
    "length = kabko.data_count + result.outbreak_shift\n",
    "length"
   ]
  },
  {
   "cell_type": "code",
   "execution_count": null,
   "metadata": {
    "scrolled": false
   },
   "outputs": [],
   "source": [
    "import matplotlib.pyplot as plt\n",
    "for d in used_datasets:\n",
    "    datasets = kabko.get_datasets([d], result.outbreak_shift)\n",
    "    plotter.plot(\n",
    "        plotter.plot_main_data, \n",
    "        datasets,\n",
    "        length\n",
    "    )\n",
    "    plt.show()"
   ]
  },
  {
   "cell_type": "code",
   "execution_count": null,
   "metadata": {},
   "outputs": [],
   "source": [
    "plotter.plot(plotter.plot_main_lite);"
   ]
  },
  {
   "cell_type": "code",
   "execution_count": null,
   "metadata": {},
   "outputs": [],
   "source": [
    "plotter.plot(plotter.plot_daily_lite);"
   ]
  },
  {
   "cell_type": "code",
   "execution_count": null,
   "metadata": {},
   "outputs": [],
   "source": [
    "plotter.plot(plotter.plot_r0);"
   ]
  },
  {
   "cell_type": "code",
   "execution_count": null,
   "metadata": {},
   "outputs": [],
   "source": [
    "plotter.plot(plotter.plot_mortality_rate);"
   ]
  },
  {
   "cell_type": "code",
   "execution_count": null,
   "metadata": {},
   "outputs": [],
   "source": [
    "plotter.plot(plotter.plot_over);"
   ]
  },
  {
   "cell_type": "code",
   "execution_count": null,
   "metadata": {
    "scrolled": false
   },
   "outputs": [],
   "source": [
    "plotter.plot(plotter.plot_healthcare);"
   ]
  },
  {
   "cell_type": "markdown",
   "metadata": {},
   "source": [
    "### Save Params"
   ]
  },
  {
   "cell_type": "markdown",
   "metadata": {},
   "source": [
    "Run code below ONLY if you want to save the parameters."
   ]
  },
  {
   "cell_type": "code",
   "execution_count": null,
   "metadata": {},
   "outputs": [],
   "source": [
    "ModelDataRepo.update_all(result.kabko, result.fit_result.values, result.outbreak_shift)"
   ]
  },
  {
   "cell_type": "markdown",
   "metadata": {},
   "source": [
    "### Confidence Interval"
   ]
  },
  {
   "cell_type": "markdown",
   "metadata": {},
   "source": [
    "This requires standard error to be present for each params."
   ]
  },
  {
   "cell_type": "code",
   "execution_count": null,
   "metadata": {},
   "outputs": [],
   "source": [
    "result.fit_result.conf_interval()"
   ]
  },
  {
   "cell_type": "code",
   "execution_count": null,
   "metadata": {},
   "outputs": [],
   "source": []
  }
 ],
 "metadata": {
  "kernelspec": {
   "display_name": "Python 3",
   "language": "python",
   "name": "python3"
  },
  "language_info": {
   "codemirror_mode": {
    "name": "ipython",
    "version": 3
   },
   "file_extension": ".py",
   "mimetype": "text/x-python",
   "name": "python",
   "nbconvert_exporter": "python",
   "pygments_lexer": "ipython3",
   "version": "3.7.6"
  }
 },
 "nbformat": 4,
 "nbformat_minor": 4
}
