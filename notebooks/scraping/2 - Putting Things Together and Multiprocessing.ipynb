{
 "cells": [
  {
   "cell_type": "markdown",
   "metadata": {},
   "source": [
    "# Putting Things Together and Multiprocessing"
   ]
  },
  {
   "cell_type": "markdown",
   "metadata": {},
   "source": [
    "Now, let's take it to the next level. We'll need to scrap each day for each kabko."
   ]
  },
  {
   "cell_type": "markdown",
   "metadata": {},
   "source": [
    "First, let's wrap these in functions. We already have:\n",
    "1. get_selected_vals/get_selected_dicts\n",
    "2. parse_card\n",
    "\n",
    "Let's also put them here, along with the previous imports and stuff."
   ]
  },
  {
   "cell_type": "code",
   "execution_count": 1,
   "metadata": {},
   "outputs": [],
   "source": [
    "from requests_html import HTMLSession\n",
    "\n",
    "endpoint = \"https://covid19dev.jatimprov.go.id/index.php/xweb/grafikpublik/\"\n",
    "session = HTMLSession()\n",
    "\n",
    "def get_select_opts(r, query):\n",
    "    #find the select element\n",
    "    select = r.html.find(query)[0]\n",
    "    els = select.find(\"option\")\n",
    "    return els\n",
    "\n",
    "def get_select_vals(r, query):\n",
    "    els = get_select_opts(r, query)\n",
    "    vals = [k.attrs[\"value\"] for k in els] \n",
    "    #we want to skip empty dates since they're useless, but not the empty kabko because it's the aggregate of all other kabko\n",
    "    #it's always the first item from a list\n",
    "    if 'kabko' not in query:\n",
    "        vals.pop(0)\n",
    "    return vals\n",
    "\n",
    "def get_select_dicts(r, query):\n",
    "    els = get_select_opts(r, query)\n",
    "    dicts = [{k.attrs[\"value\"]:k.text} for k in els]\n",
    "    #we want to skip empty dates since they're useless, but not the empty kabko because it's the aggregate of all other kabko\n",
    "    #it's always the first item from a list\n",
    "    if 'kabko' not in query:\n",
    "        dicts.pop(0)\n",
    "    return dicts\n",
    "\n",
    "def parse_card(card, fields):\n",
    "    els = card.find(\"h3\")\n",
    "    vals = [int(e.text) for e in els]\n",
    "    parsed = dict(zip(fields, vals))\n",
    "    return parsed\n"
   ]
  },
  {
   "cell_type": "code",
   "execution_count": 2,
   "metadata": {},
   "outputs": [],
   "source": [
    "#editing parse_card a bit\n",
    "def parse_int(text):\n",
    "    if not text:\n",
    "        return 0\n",
    "    val = int(text)\n",
    "    return val\n",
    "\n",
    "def parse_card(card, fields):\n",
    "    els = card.find(\"h3\")\n",
    "    vals = [parse_int(e.text) for e in els]\n",
    "    parsed = dict(zip(fields, vals))\n",
    "    return parsed"
   ]
  },
  {
   "cell_type": "markdown",
   "metadata": {},
   "source": [
    "However, what we need are functions to:\n",
    "1. get all kabkos and dates\n",
    "2. get new dates (get dates past a given date from date list)\n",
    "3. get data of a day & kabko\n",
    "4. get data of every day & kabko\n",
    "5. get data of new data (after a given date)\n",
    "\n",
    "We'll do them one by one"
   ]
  },
  {
   "cell_type": "markdown",
   "metadata": {},
   "source": [
    "## Getting Form Parameters"
   ]
  },
  {
   "cell_type": "markdown",
   "metadata": {},
   "source": [
    "First, let's do function to get all parameter values."
   ]
  },
  {
   "cell_type": "code",
   "execution_count": 3,
   "metadata": {},
   "outputs": [
    {
     "data": {
      "text/plain": [
       "{'kabko': ['',\n",
       "  '- (STATUS PENDING)',\n",
       "  'AWAK BUAH KAPAL',\n",
       "  'KAB. BANGKALAN',\n",
       "  'KAB. BANYUWANGI',\n",
       "  'KAB. BLITAR',\n",
       "  'KAB. BOJONEGORO',\n",
       "  'KAB. BONDOWOSO',\n",
       "  'KAB. GRESIK',\n",
       "  'KAB. JEMBER',\n",
       "  'KAB. JOMBANG',\n",
       "  'KAB. KEDIRI',\n",
       "  'KAB. LAMONGAN',\n",
       "  'KAB. LUMAJANG',\n",
       "  'KAB. MADIUN',\n",
       "  'KAB. MAGETAN',\n",
       "  'KAB. MALANG',\n",
       "  'KAB. MOJOKERTO',\n",
       "  'KAB. NGANJUK',\n",
       "  'KAB. NGAWI',\n",
       "  'KAB. PACITAN',\n",
       "  'KAB. PAMEKASAN',\n",
       "  'KAB. PASURUAN',\n",
       "  'KAB. PONOROGO',\n",
       "  'KAB. PROBOLINGGO',\n",
       "  'KAB. SAMPANG',\n",
       "  'KAB. SIDOARJO',\n",
       "  'KAB. SITUBONDO',\n",
       "  'KAB. SUMENEP',\n",
       "  'KAB. TRENGGALEK',\n",
       "  'KAB. TUBAN',\n",
       "  'KAB. TULUNGAGUNG',\n",
       "  'KOTA BATU',\n",
       "  'KOTA BLITAR',\n",
       "  'KOTA KEDIRI',\n",
       "  'KOTA MADIUN',\n",
       "  'KOTA MALANG',\n",
       "  'KOTA MOJOKERTO',\n",
       "  'KOTA PASURUAN',\n",
       "  'KOTA PROBOLINGGO',\n",
       "  'KOTA SURABAYA'],\n",
       " 'tanggal': ['2020-03-20',\n",
       "  '2020-03-21',\n",
       "  '2020-03-22',\n",
       "  '2020-03-23',\n",
       "  '2020-03-24',\n",
       "  '2020-03-25',\n",
       "  '2020-03-26',\n",
       "  '2020-03-27',\n",
       "  '2020-03-28',\n",
       "  '2020-03-29',\n",
       "  '2020-03-30',\n",
       "  '2020-03-31',\n",
       "  '2020-04-01',\n",
       "  '2020-04-02',\n",
       "  '2020-04-03',\n",
       "  '2020-04-04',\n",
       "  '2020-04-05',\n",
       "  '2020-04-06',\n",
       "  '2020-04-07',\n",
       "  '2020-04-08',\n",
       "  '2020-04-09',\n",
       "  '2020-04-10',\n",
       "  '2020-04-11',\n",
       "  '2020-04-12',\n",
       "  '2020-04-13',\n",
       "  '2020-04-14',\n",
       "  '2020-04-15',\n",
       "  '2020-04-16',\n",
       "  '2020-04-17',\n",
       "  '2020-04-18',\n",
       "  '2020-04-19',\n",
       "  '2020-04-20',\n",
       "  '2020-04-21',\n",
       "  '2020-04-22',\n",
       "  '2020-04-23',\n",
       "  '2020-04-24',\n",
       "  '2020-04-25',\n",
       "  '2020-04-26',\n",
       "  '2020-04-27',\n",
       "  '2020-04-28',\n",
       "  '2020-04-29',\n",
       "  '2020-04-30',\n",
       "  '2020-05-01',\n",
       "  '2020-05-02',\n",
       "  '2020-05-03',\n",
       "  '2020-05-04',\n",
       "  '2020-05-05',\n",
       "  '2020-05-06',\n",
       "  '2020-05-07',\n",
       "  '2020-05-08',\n",
       "  '2020-05-09',\n",
       "  '2020-05-10',\n",
       "  '2020-05-11',\n",
       "  '2020-05-12',\n",
       "  '2020-05-13',\n",
       "  '2020-05-14',\n",
       "  '2020-05-15',\n",
       "  '2020-05-16',\n",
       "  '2020-05-17',\n",
       "  '2020-05-18',\n",
       "  '2020-05-19',\n",
       "  '2020-05-20',\n",
       "  '2020-05-21',\n",
       "  '2020-05-22',\n",
       "  '2020-05-23',\n",
       "  '2020-05-24',\n",
       "  '2020-05-25',\n",
       "  '2020-05-26',\n",
       "  '2020-05-27',\n",
       "  '2020-05-28',\n",
       "  '2020-05-29',\n",
       "  '2020-05-30',\n",
       "  '2020-05-31',\n",
       "  '2020-06-01',\n",
       "  '2020-06-02',\n",
       "  '2020-06-03',\n",
       "  '2020-06-04',\n",
       "  '2020-06-05',\n",
       "  '2020-06-06',\n",
       "  '2020-06-07',\n",
       "  '2020-06-08',\n",
       "  '2020-06-09',\n",
       "  '2020-06-10',\n",
       "  '2020-06-11',\n",
       "  '2020-06-12',\n",
       "  '2020-06-13',\n",
       "  '2020-06-14',\n",
       "  '2020-06-15',\n",
       "  '2020-06-16',\n",
       "  '2020-06-17',\n",
       "  '2020-06-18',\n",
       "  '2020-06-19',\n",
       "  '2020-06-20',\n",
       "  '2020-06-21',\n",
       "  '2020-06-22',\n",
       "  '2020-06-23',\n",
       "  '2020-06-24',\n",
       "  '2020-06-25',\n",
       "  '2020-06-26'],\n",
       " 'sampai': ['2020-03-20',\n",
       "  '2020-03-21',\n",
       "  '2020-03-22',\n",
       "  '2020-03-23',\n",
       "  '2020-03-24',\n",
       "  '2020-03-25',\n",
       "  '2020-03-26',\n",
       "  '2020-03-27',\n",
       "  '2020-03-28',\n",
       "  '2020-03-29',\n",
       "  '2020-03-30',\n",
       "  '2020-03-31',\n",
       "  '2020-04-01',\n",
       "  '2020-04-02',\n",
       "  '2020-04-03',\n",
       "  '2020-04-04',\n",
       "  '2020-04-05',\n",
       "  '2020-04-06',\n",
       "  '2020-04-07',\n",
       "  '2020-04-08',\n",
       "  '2020-04-09',\n",
       "  '2020-04-10',\n",
       "  '2020-04-11',\n",
       "  '2020-04-12',\n",
       "  '2020-04-13',\n",
       "  '2020-04-14',\n",
       "  '2020-04-15',\n",
       "  '2020-04-16',\n",
       "  '2020-04-17',\n",
       "  '2020-04-18',\n",
       "  '2020-04-19',\n",
       "  '2020-04-20',\n",
       "  '2020-04-21',\n",
       "  '2020-04-22',\n",
       "  '2020-04-23',\n",
       "  '2020-04-24',\n",
       "  '2020-04-25',\n",
       "  '2020-04-26',\n",
       "  '2020-04-27',\n",
       "  '2020-04-28',\n",
       "  '2020-04-29',\n",
       "  '2020-04-30',\n",
       "  '2020-05-01',\n",
       "  '2020-05-02',\n",
       "  '2020-05-03',\n",
       "  '2020-05-04',\n",
       "  '2020-05-05',\n",
       "  '2020-05-06',\n",
       "  '2020-05-07',\n",
       "  '2020-05-08',\n",
       "  '2020-05-09',\n",
       "  '2020-05-10',\n",
       "  '2020-05-11',\n",
       "  '2020-05-12',\n",
       "  '2020-05-13',\n",
       "  '2020-05-14',\n",
       "  '2020-05-15',\n",
       "  '2020-05-16',\n",
       "  '2020-05-17',\n",
       "  '2020-05-18',\n",
       "  '2020-05-19',\n",
       "  '2020-05-20',\n",
       "  '2020-05-21',\n",
       "  '2020-05-22',\n",
       "  '2020-05-23',\n",
       "  '2020-05-24',\n",
       "  '2020-05-25',\n",
       "  '2020-05-26',\n",
       "  '2020-05-27',\n",
       "  '2020-05-28',\n",
       "  '2020-05-29',\n",
       "  '2020-05-30',\n",
       "  '2020-05-31',\n",
       "  '2020-06-01',\n",
       "  '2020-06-02',\n",
       "  '2020-06-03',\n",
       "  '2020-06-04',\n",
       "  '2020-06-05',\n",
       "  '2020-06-06',\n",
       "  '2020-06-07',\n",
       "  '2020-06-08',\n",
       "  '2020-06-09',\n",
       "  '2020-06-10',\n",
       "  '2020-06-11',\n",
       "  '2020-06-12',\n",
       "  '2020-06-13',\n",
       "  '2020-06-14',\n",
       "  '2020-06-15',\n",
       "  '2020-06-16',\n",
       "  '2020-06-17',\n",
       "  '2020-06-18',\n",
       "  '2020-06-19',\n",
       "  '2020-06-20',\n",
       "  '2020-06-21',\n",
       "  '2020-06-22',\n",
       "  '2020-06-23',\n",
       "  '2020-06-24',\n",
       "  '2020-06-25',\n",
       "  '2020-06-26']}"
      ]
     },
     "execution_count": 3,
     "metadata": {},
     "output_type": "execute_result"
    }
   ],
   "source": [
    "def get_all_param_vals(session, endpoint, dicts=False, params=['kabko', 'tanggal', 'sampai']):\n",
    "    r = session.get(endpoint)\n",
    "    f = get_select_vals\n",
    "    if dicts:\n",
    "        f = get_select_dicts\n",
    "    vals = dict([(p, f(r, \"#\"+p)) for p in params])\n",
    "    return vals\n",
    "\n",
    "vals = get_all_param_vals(session, endpoint)\n",
    "vals"
   ]
  },
  {
   "cell_type": "markdown",
   "metadata": {},
   "source": [
    "## Filter New Dates"
   ]
  },
  {
   "cell_type": "markdown",
   "metadata": {},
   "source": [
    "Next, function to select dates after date list. \n",
    "\n",
    "We first need function to parse the date string into date object. We'll use datetime class from datetime package."
   ]
  },
  {
   "cell_type": "code",
   "execution_count": 4,
   "metadata": {},
   "outputs": [
    {
     "data": {
      "text/plain": [
       "datetime.date(2020, 3, 20)"
      ]
     },
     "execution_count": 4,
     "metadata": {},
     "output_type": "execute_result"
    }
   ],
   "source": [
    "from datetime import datetime\n",
    "\n",
    "def parse_date(date_str):\n",
    "    return datetime.strptime(date_str, \"%Y-%m-%d\").date()\n",
    "\n",
    "parse_date('2020-03-20')"
   ]
  },
  {
   "cell_type": "markdown",
   "metadata": {},
   "source": [
    "And vice versa"
   ]
  },
  {
   "cell_type": "code",
   "execution_count": 5,
   "metadata": {},
   "outputs": [
    {
     "data": {
      "text/plain": [
       "'2020-03-20'"
      ]
     },
     "execution_count": 5,
     "metadata": {},
     "output_type": "execute_result"
    }
   ],
   "source": [
    "def format_date(date):\n",
    "    return datetime.strftime(date, \"%Y-%m-%d\")\n",
    "\n",
    "format_date(parse_date('2020-03-20'))"
   ]
  },
  {
   "cell_type": "markdown",
   "metadata": {},
   "source": [
    "Now we filter dates. Let's say we want dates after 1 April."
   ]
  },
  {
   "cell_type": "code",
   "execution_count": 6,
   "metadata": {
    "scrolled": true
   },
   "outputs": [
    {
     "data": {
      "text/plain": [
       "['2020-04-02', '2020-04-03', '2020-04-04', '2020-04-05', '2020-04-06']"
      ]
     },
     "execution_count": 6,
     "metadata": {},
     "output_type": "execute_result"
    }
   ],
   "source": [
    "def get_new_dates(dates, after):\n",
    "    after = parse_date(after)\n",
    "    new_dates = [d for d in dates if d and parse_date(d) > after]\n",
    "    return new_dates\n",
    "\n",
    "get_new_dates(vals['tanggal'], '2020-04-01')[:5]"
   ]
  },
  {
   "cell_type": "markdown",
   "metadata": {},
   "source": [
    "## Single Request Scraping"
   ]
  },
  {
   "cell_type": "markdown",
   "metadata": {},
   "source": [
    "Next we make function to get data from a kabko in a day. But first, we define the fields."
   ]
  },
  {
   "cell_type": "code",
   "execution_count": 7,
   "metadata": {},
   "outputs": [],
   "source": [
    "#define the fields\n",
    "positif_fields = ['total', 'dirawat', 'sembuh', 'meninggal', 'rumah', 'gedung', 'rs']\n",
    "odp_fields = ['total', 'belum_dipantau', 'dipantau', 'selesai_dipantau', 'meninggal', 'rumah', 'gedung', 'rs']\n",
    "pdp_fields = ['total', 'belum_diawasi', 'dirawat', 'sehat', 'meninggal', 'rumah', 'gedung', 'rs']"
   ]
  },
  {
   "cell_type": "markdown",
   "metadata": {},
   "source": [
    "OTG and ODR are just single values thus doesn't need to be a dict and can't use parse_card. Let's make a function for them."
   ]
  },
  {
   "cell_type": "code",
   "execution_count": 8,
   "metadata": {},
   "outputs": [],
   "source": [
    "def parse_card_single(card):\n",
    "    val = parse_int(card.find(\"h3\")[0].text)\n",
    "    return val"
   ]
  },
  {
   "cell_type": "code",
   "execution_count": 9,
   "metadata": {
    "scrolled": true
   },
   "outputs": [
    {
     "data": {
      "text/plain": [
       "{'kabko': '',\n",
       " 'tanggal': '2020-03-20',\n",
       " 'sampai': '2020-03-20',\n",
       " 'positif': {'total': 542,\n",
       "  'dirawat': 0,\n",
       "  'sembuh': 0,\n",
       "  'meninggal': 0,\n",
       "  'rumah': 0,\n",
       "  'gedung': 0,\n",
       "  'rs': 0},\n",
       " 'odp': {'total': 542,\n",
       "  'belum_dipantau': 0,\n",
       "  'dipantau': 0,\n",
       "  'selesai_dipantau': 0,\n",
       "  'meninggal': 0,\n",
       "  'rumah': 0,\n",
       "  'gedung': 0,\n",
       "  'rs': 0},\n",
       " 'pdp': {'total': 542,\n",
       "  'belum_diawasi': 0,\n",
       "  'dirawat': 0,\n",
       "  'sehat': 0,\n",
       "  'meninggal': 0,\n",
       "  'rumah': 0,\n",
       "  'gedung': 0,\n",
       "  'rs': 0},\n",
       " 'otg': 0,\n",
       " 'odr': 11025}"
      ]
     },
     "execution_count": 9,
     "metadata": {},
     "output_type": "execute_result"
    }
   ],
   "source": [
    "def get_covid_data(session, endpoint, kabko, tanggal, sampai=None):\n",
    "    #prepare the request\n",
    "    if not sampai:\n",
    "        sampai = tanggal\n",
    "    data = {\n",
    "        'kabko': kabko,\n",
    "        'tanggal': tanggal,\n",
    "        'sampai': sampai\n",
    "    }\n",
    "    \n",
    "    #send request\n",
    "    r = session.post(endpoint, data=data)\n",
    "    \n",
    "    #get cards\n",
    "    row = r.html.find(\".container .row\")[0]\n",
    "    card_groups = row.find(\"div.col-md-6\")[:2]\n",
    "    cards = card_groups[0].find(\"div.card\") + card_groups[1].find(\"div.card\")\n",
    "    \n",
    "    #name the cards\n",
    "    positif_card = cards[0].find(\".card-block\")[0]\n",
    "    odp_card = cards[1].find(\".card-block\")[0]\n",
    "    pdp_card = cards[2].find(\".card-block\")[0]\n",
    "    otg_card = cards[3].find(\".card-body\")[0]\n",
    "    odr_card = cards[4].find(\".card-body\")[0]\n",
    "    \n",
    "    #get and pack the values\n",
    "    vals = {\n",
    "        'kabko':kabko,\n",
    "        'tanggal':tanggal,\n",
    "        'sampai':sampai,\n",
    "        'positif':parse_card(odp_card, positif_fields),\n",
    "        'odp':parse_card(odp_card, odp_fields),\n",
    "        'pdp':parse_card(odp_card, pdp_fields),\n",
    "        'otg':parse_card_single(otg_card),\n",
    "        'odr':parse_card_single(odr_card)\n",
    "    }\n",
    "    \n",
    "    return vals\n",
    "\n",
    "get_covid_data(session, endpoint, \"\", \"2020-03-20\")"
   ]
  },
  {
   "cell_type": "markdown",
   "metadata": {},
   "source": [
    "Now that we can get one, let's do it in bulk."
   ]
  },
  {
   "cell_type": "markdown",
   "metadata": {},
   "source": [
    "## Bulk Scraping"
   ]
  },
  {
   "cell_type": "code",
   "execution_count": 10,
   "metadata": {
    "scrolled": true
   },
   "outputs": [
    {
     "data": {
      "text/plain": [
       "{'': {'2020-03-20': {'kabko': '',\n",
       "   'tanggal': '2020-03-20',\n",
       "   'sampai': '2020-03-20',\n",
       "   'positif': {'total': 542,\n",
       "    'dirawat': 0,\n",
       "    'sembuh': 0,\n",
       "    'meninggal': 0,\n",
       "    'rumah': 0,\n",
       "    'gedung': 0,\n",
       "    'rs': 0},\n",
       "   'odp': {'total': 542,\n",
       "    'belum_dipantau': 0,\n",
       "    'dipantau': 0,\n",
       "    'selesai_dipantau': 0,\n",
       "    'meninggal': 0,\n",
       "    'rumah': 0,\n",
       "    'gedung': 0,\n",
       "    'rs': 0},\n",
       "   'pdp': {'total': 542,\n",
       "    'belum_diawasi': 0,\n",
       "    'dirawat': 0,\n",
       "    'sehat': 0,\n",
       "    'meninggal': 0,\n",
       "    'rumah': 0,\n",
       "    'gedung': 0,\n",
       "    'rs': 0},\n",
       "   'otg': 0,\n",
       "   'odr': 11025},\n",
       "  '2020-03-21': {'kabko': '',\n",
       "   'tanggal': '2020-03-21',\n",
       "   'sampai': '2020-03-21',\n",
       "   'positif': {'total': 791,\n",
       "    'dirawat': 0,\n",
       "    'sembuh': 0,\n",
       "    'meninggal': 0,\n",
       "    'rumah': 0,\n",
       "    'gedung': 0,\n",
       "    'rs': 0},\n",
       "   'odp': {'total': 791,\n",
       "    'belum_dipantau': 0,\n",
       "    'dipantau': 0,\n",
       "    'selesai_dipantau': 0,\n",
       "    'meninggal': 0,\n",
       "    'rumah': 0,\n",
       "    'gedung': 0,\n",
       "    'rs': 0},\n",
       "   'pdp': {'total': 791,\n",
       "    'belum_diawasi': 0,\n",
       "    'dirawat': 0,\n",
       "    'sehat': 0,\n",
       "    'meninggal': 0,\n",
       "    'rumah': 0,\n",
       "    'gedung': 0,\n",
       "    'rs': 0},\n",
       "   'otg': 0,\n",
       "   'odr': 13392}},\n",
       " '- (STATUS PENDING)': {'2020-03-20': {'kabko': '- (STATUS PENDING)',\n",
       "   'tanggal': '2020-03-20',\n",
       "   'sampai': '2020-03-20',\n",
       "   'positif': {'total': 0,\n",
       "    'dirawat': 0,\n",
       "    'sembuh': 0,\n",
       "    'meninggal': 0,\n",
       "    'rumah': 0,\n",
       "    'gedung': 0,\n",
       "    'rs': 0},\n",
       "   'odp': {'total': 0,\n",
       "    'belum_dipantau': 0,\n",
       "    'dipantau': 0,\n",
       "    'selesai_dipantau': 0,\n",
       "    'meninggal': 0,\n",
       "    'rumah': 0,\n",
       "    'gedung': 0,\n",
       "    'rs': 0},\n",
       "   'pdp': {'total': 0,\n",
       "    'belum_diawasi': 0,\n",
       "    'dirawat': 0,\n",
       "    'sehat': 0,\n",
       "    'meninggal': 0,\n",
       "    'rumah': 0,\n",
       "    'gedung': 0,\n",
       "    'rs': 0},\n",
       "   'otg': 0,\n",
       "   'odr': 0},\n",
       "  '2020-03-21': {'kabko': '- (STATUS PENDING)',\n",
       "   'tanggal': '2020-03-21',\n",
       "   'sampai': '2020-03-21',\n",
       "   'positif': {'total': 0,\n",
       "    'dirawat': 0,\n",
       "    'sembuh': 0,\n",
       "    'meninggal': 0,\n",
       "    'rumah': 0,\n",
       "    'gedung': 0,\n",
       "    'rs': 0},\n",
       "   'odp': {'total': 0,\n",
       "    'belum_dipantau': 0,\n",
       "    'dipantau': 0,\n",
       "    'selesai_dipantau': 0,\n",
       "    'meninggal': 0,\n",
       "    'rumah': 0,\n",
       "    'gedung': 0,\n",
       "    'rs': 0},\n",
       "   'pdp': {'total': 0,\n",
       "    'belum_diawasi': 0,\n",
       "    'dirawat': 0,\n",
       "    'sehat': 0,\n",
       "    'meninggal': 0,\n",
       "    'rumah': 0,\n",
       "    'gedung': 0,\n",
       "    'rs': 0},\n",
       "   'otg': 0,\n",
       "   'odr': 0}}}"
      ]
     },
     "execution_count": 10,
     "metadata": {},
     "output_type": "execute_result"
    }
   ],
   "source": [
    "def get_covid_data_bulk(session, endpoint, kabko, tanggal):\n",
    "    data = {k:{t:get_covid_data(session, endpoint, k, t) for t in tanggal} for k in kabko}\n",
    "    return data\n",
    "\n",
    "params = get_all_param_vals(session, endpoint)\n",
    "kabko = params['kabko'][:2]\n",
    "tanggal = params['tanggal'][:2]\n",
    "get_covid_data_bulk(session, endpoint, kabko, tanggal)"
   ]
  },
  {
   "cell_type": "code",
   "execution_count": 11,
   "metadata": {
    "scrolled": true
   },
   "outputs": [
    {
     "data": {
      "text/plain": [
       "4059"
      ]
     },
     "execution_count": 11,
     "metadata": {},
     "output_type": "execute_result"
    }
   ],
   "source": [
    "data_count = len(params['kabko']) * len(params['tanggal'])\n",
    "data_count"
   ]
  },
  {
   "cell_type": "markdown",
   "metadata": {},
   "source": [
    "## Efficiency and Benchmarking"
   ]
  },
  {
   "cell_type": "markdown",
   "metadata": {},
   "source": [
    "Well, damn. It takes so long because loops are synchronous. We're basically loading 4059 web pages one by one. If we were to open that many web pages manually in a browser, we'd open many tab at once so we'll wait for it to load at the same time instead of opening them one by one. This is multiprocessing. However, we can't use python's standard multiprocessing library here in jupyter, we should use multiprocess library instead. (Ref: https://stackoverflow.com/questions/50937362/multiprocessing-on-python-3-jupyter)\n",
    "\n",
    "\n",
    "But first, let's time the single function."
   ]
  },
  {
   "cell_type": "code",
   "execution_count": 12,
   "metadata": {},
   "outputs": [
    {
     "data": {
      "text/plain": [
       "2.4631409645080566"
      ]
     },
     "execution_count": 12,
     "metadata": {},
     "output_type": "execute_result"
    }
   ],
   "source": [
    "import time\n",
    "\n",
    "def f_timer(f, args=None, kwargs=None):\n",
    "    args = args or []\n",
    "    kwargs = kwargs or {}\n",
    "    start = time.time()\n",
    "    ret = f(*args, **kwargs)\n",
    "    end = time.time()\n",
    "    return end-start\n",
    "\n",
    "f_timer(get_covid_data, (session, endpoint, \"\", \"2020-03-20\"))"
   ]
  },
  {
   "cell_type": "markdown",
   "metadata": {},
   "source": [
    "3 seconds. Pretty long, eh? This will require quite a long time to process 4059 data.\n",
    "\n",
    "Let's try average of some runs"
   ]
  },
  {
   "cell_type": "code",
   "execution_count": 13,
   "metadata": {},
   "outputs": [
    {
     "data": {
      "text/plain": [
       "2.6999544382095335"
      ]
     },
     "execution_count": 13,
     "metadata": {},
     "output_type": "execute_result"
    }
   ],
   "source": [
    "def f_timer_avg(f, count, args=[], kwargs={}):\n",
    "    args = args or []\n",
    "    kwargs = kwargs or {}\n",
    "    times = [f_timer(f, args, kwargs) for i in range(count)]\n",
    "    avg = sum(times)/len(times)\n",
    "    return avg\n",
    "\n",
    "run_avg_time = f_timer_avg(get_covid_data, 10, (session, endpoint, \"\", \"2020-03-20\"))\n",
    "run_avg_time"
   ]
  },
  {
   "cell_type": "markdown",
   "metadata": {},
   "source": [
    "About the same. What makes it long? If it's the page loading then we can't really do much."
   ]
  },
  {
   "cell_type": "code",
   "execution_count": 14,
   "metadata": {
    "scrolled": false
   },
   "outputs": [
    {
     "data": {
      "text/plain": [
       "2.950868773460388"
      ]
     },
     "execution_count": 14,
     "metadata": {},
     "output_type": "execute_result"
    }
   ],
   "source": [
    "f_timer_avg(session.post, 10, (endpoint,))"
   ]
  },
  {
   "cell_type": "markdown",
   "metadata": {},
   "source": [
    "It is. So we can't do much. How long will it take to process all data though?"
   ]
  },
  {
   "cell_type": "code",
   "execution_count": 15,
   "metadata": {},
   "outputs": [
    {
     "data": {
      "text/plain": [
       "10959.115064692496"
      ]
     },
     "execution_count": 15,
     "metadata": {},
     "output_type": "execute_result"
    }
   ],
   "source": [
    "seconds_needed = run_avg_time * data_count\n",
    "seconds_needed"
   ]
  },
  {
   "cell_type": "code",
   "execution_count": 16,
   "metadata": {
    "scrolled": true
   },
   "outputs": [
    {
     "data": {
      "text/plain": [
       "182.65191774487494"
      ]
     },
     "execution_count": 16,
     "metadata": {},
     "output_type": "execute_result"
    }
   ],
   "source": [
    "minutes_needed = seconds_needed / 60\n",
    "minutes_needed"
   ]
  },
  {
   "cell_type": "code",
   "execution_count": 17,
   "metadata": {
    "scrolled": true
   },
   "outputs": [
    {
     "data": {
      "text/plain": [
       "3.044198629081249"
      ]
     },
     "execution_count": 17,
     "metadata": {},
     "output_type": "execute_result"
    }
   ],
   "source": [
    "hours_needed = minutes_needed / 60\n",
    "hours_needed"
   ]
  },
  {
   "cell_type": "markdown",
   "metadata": {},
   "source": [
    "We need close to 3 hours to process all data. Heroku will have long since terminated our program by then. Thus, we really need to speed this up or split it to parts."
   ]
  },
  {
   "cell_type": "markdown",
   "metadata": {},
   "source": [
    "## Multiprocessing"
   ]
  },
  {
   "cell_type": "markdown",
   "metadata": {},
   "source": [
    "Now we do the multiprocessing. First, let's prepare for it."
   ]
  },
  {
   "cell_type": "code",
   "execution_count": 18,
   "metadata": {},
   "outputs": [
    {
     "data": {
      "text/plain": [
       "['2020-03-20', '2020-03-21']"
      ]
     },
     "execution_count": 18,
     "metadata": {},
     "output_type": "execute_result"
    }
   ],
   "source": [
    "#requests-html github readme says that we automatically get connection pool so no need to pool the sessions\n",
    "\n",
    "#get the params like before\n",
    "params = get_all_param_vals(session, endpoint)\n",
    "\n",
    "#let's start small\n",
    "tanggal = params['tanggal'][:2]\n",
    "kabko = params['kabko'][:2]\n",
    "\n",
    "tanggal"
   ]
  },
  {
   "cell_type": "code",
   "execution_count": 19,
   "metadata": {
    "scrolled": true
   },
   "outputs": [
    {
     "data": {
      "text/plain": [
       "['', '- (STATUS PENDING)']"
      ]
     },
     "execution_count": 19,
     "metadata": {},
     "output_type": "execute_result"
    }
   ],
   "source": [
    "kabko"
   ]
  },
  {
   "cell_type": "code",
   "execution_count": 20,
   "metadata": {
    "scrolled": true
   },
   "outputs": [
    {
     "data": {
      "text/plain": [
       "{'': {'2020-03-20': None, '2020-03-21': None},\n",
       " '- (STATUS PENDING)': {'2020-03-20': None, '2020-03-21': None}}"
      ]
     },
     "execution_count": 20,
     "metadata": {},
     "output_type": "execute_result"
    }
   ],
   "source": [
    "#we still need to prepare the dict, but just make the value empty\n",
    "data = {k:{t:None for t in tanggal} for k in kabko}\n",
    "\n",
    "data"
   ]
  },
  {
   "cell_type": "code",
   "execution_count": 21,
   "metadata": {},
   "outputs": [
    {
     "data": {
      "text/plain": [
       "[(<requests_html.HTMLSession at 0x7b30d48>,\n",
       "  'https://covid19dev.jatimprov.go.id/index.php/xweb/grafikpublik/',\n",
       "  '',\n",
       "  '2020-03-20'),\n",
       " (<requests_html.HTMLSession at 0x7b2ec48>,\n",
       "  'https://covid19dev.jatimprov.go.id/index.php/xweb/grafikpublik/',\n",
       "  '- (STATUS PENDING)',\n",
       "  '2020-03-20'),\n",
       " (<requests_html.HTMLSession at 0x7b68ac8>,\n",
       "  'https://covid19dev.jatimprov.go.id/index.php/xweb/grafikpublik/',\n",
       "  '',\n",
       "  '2020-03-21'),\n",
       " (<requests_html.HTMLSession at 0x7d2c088>,\n",
       "  'https://covid19dev.jatimprov.go.id/index.php/xweb/grafikpublik/',\n",
       "  '- (STATUS PENDING)',\n",
       "  '2020-03-21')]"
      ]
     },
     "execution_count": 21,
     "metadata": {},
     "output_type": "execute_result"
    }
   ],
   "source": [
    "#prepare the args\n",
    "#get_covid_data(session, endpoint, k, t)\n",
    "#we create a new session for each run because we can't make one session load many pages in parallel\n",
    "args = [(HTMLSession(), endpoint, k, t) for t in tanggal for k in kabko]\n",
    "\n",
    "args"
   ]
  },
  {
   "cell_type": "code",
   "execution_count": 22,
   "metadata": {},
   "outputs": [
    {
     "data": {
      "text/plain": [
       "4"
      ]
     },
     "execution_count": 22,
     "metadata": {},
     "output_type": "execute_result"
    }
   ],
   "source": [
    "len(args)"
   ]
  },
  {
   "cell_type": "markdown",
   "metadata": {},
   "source": [
    "We have 4 pack of arguments, meaning we should have 4 tasks. We have 10 processor set so we won't have any waiting task, meaning we should have 4 parallel processes running at the same time. The time needed for 1 request is under 3 seconds so this should take at most 12 seconds and that should be the time if it were synchronous. \n",
    "\n",
    "Just to be safe, let's run each of them one by one and see if any of them breaks."
   ]
  },
  {
   "cell_type": "code",
   "execution_count": 23,
   "metadata": {
    "scrolled": false
   },
   "outputs": [
    {
     "data": {
      "text/plain": [
       "11025"
      ]
     },
     "execution_count": 23,
     "metadata": {},
     "output_type": "execute_result"
    }
   ],
   "source": [
    "get_covid_data(*(args[0]))['odr']"
   ]
  },
  {
   "cell_type": "code",
   "execution_count": 24,
   "metadata": {
    "scrolled": true
   },
   "outputs": [
    {
     "data": {
      "text/plain": [
       "0"
      ]
     },
     "execution_count": 24,
     "metadata": {},
     "output_type": "execute_result"
    }
   ],
   "source": [
    "get_covid_data(*(args[1]))['odr']"
   ]
  },
  {
   "cell_type": "code",
   "execution_count": 25,
   "metadata": {},
   "outputs": [
    {
     "data": {
      "text/plain": [
       "13392"
      ]
     },
     "execution_count": 25,
     "metadata": {},
     "output_type": "execute_result"
    }
   ],
   "source": [
    "get_covid_data(*(args[2]))['odr']"
   ]
  },
  {
   "cell_type": "code",
   "execution_count": 26,
   "metadata": {},
   "outputs": [
    {
     "data": {
      "text/plain": [
       "0"
      ]
     },
     "execution_count": 26,
     "metadata": {},
     "output_type": "execute_result"
    }
   ],
   "source": [
    "get_covid_data(*(args[3]))['odr']"
   ]
  },
  {
   "cell_type": "code",
   "execution_count": 27,
   "metadata": {
    "scrolled": false
   },
   "outputs": [
    {
     "ename": "NameError",
     "evalue": "name 'parse_card' is not defined",
     "output_type": "error",
     "traceback": [
      "\u001b[1;31m---------------------------------------------------------------------------\u001b[0m",
      "\u001b[1;31mRemoteTraceback\u001b[0m                           Traceback (most recent call last)",
      "\u001b[1;31mRemoteTraceback\u001b[0m: \n\"\"\"\nTraceback (most recent call last):\n  File \"C:\\ProgramData\\Anaconda3\\lib\\site-packages\\multiprocess\\pool.py\", line 121, in worker\n    result = (True, func(*args, **kwds))\n  File \"C:\\ProgramData\\Anaconda3\\lib\\site-packages\\multiprocess\\pool.py\", line 47, in starmapstar\n    return list(itertools.starmap(args[0], args[1]))\n  File \"<ipython-input-9-6acdcf89ee6c>\", line 31, in get_covid_data\nNameError: name 'parse_card' is not defined\n\"\"\"",
      "\nThe above exception was the direct cause of the following exception:\n",
      "\u001b[1;31mNameError\u001b[0m                                 Traceback (most recent call last)",
      "\u001b[1;32m<ipython-input-27-6ce3783be5c4>\u001b[0m in \u001b[0;36m<module>\u001b[1;34m\u001b[0m\n\u001b[0;32m      9\u001b[0m \u001b[1;31m#now we execute it\u001b[0m\u001b[1;33m\u001b[0m\u001b[1;33m\u001b[0m\u001b[1;33m\u001b[0m\u001b[0m\n\u001b[0;32m     10\u001b[0m \u001b[1;31m#we use starmap instead of map because there are multiple arguments\u001b[0m\u001b[1;33m\u001b[0m\u001b[1;33m\u001b[0m\u001b[1;33m\u001b[0m\u001b[0m\n\u001b[1;32m---> 11\u001b[1;33m \u001b[0moutput\u001b[0m \u001b[1;33m=\u001b[0m \u001b[0mpool\u001b[0m\u001b[1;33m.\u001b[0m\u001b[0mstarmap\u001b[0m\u001b[1;33m(\u001b[0m\u001b[0mget_covid_data\u001b[0m\u001b[1;33m,\u001b[0m \u001b[0margs\u001b[0m\u001b[1;33m)\u001b[0m\u001b[1;33m\u001b[0m\u001b[1;33m\u001b[0m\u001b[0m\n\u001b[0m\u001b[0;32m     12\u001b[0m \u001b[1;33m\u001b[0m\u001b[0m\n\u001b[0;32m     13\u001b[0m \u001b[0mpool\u001b[0m\u001b[1;33m.\u001b[0m\u001b[0mclose\u001b[0m\u001b[1;33m(\u001b[0m\u001b[1;33m)\u001b[0m\u001b[1;33m\u001b[0m\u001b[1;33m\u001b[0m\u001b[0m\n",
      "\u001b[1;32mC:\\ProgramData\\Anaconda3\\lib\\site-packages\\multiprocess\\pool.py\u001b[0m in \u001b[0;36mstarmap\u001b[1;34m(self, func, iterable, chunksize)\u001b[0m\n\u001b[0;32m    274\u001b[0m         \u001b[0;31m`\u001b[0m\u001b[0mfunc\u001b[0m\u001b[0;31m`\u001b[0m \u001b[1;32mand\u001b[0m \u001b[1;33m(\u001b[0m\u001b[0ma\u001b[0m\u001b[1;33m,\u001b[0m \u001b[0mb\u001b[0m\u001b[1;33m)\u001b[0m \u001b[0mbecomes\u001b[0m \u001b[0mfunc\u001b[0m\u001b[1;33m(\u001b[0m\u001b[0ma\u001b[0m\u001b[1;33m,\u001b[0m \u001b[0mb\u001b[0m\u001b[1;33m)\u001b[0m\u001b[1;33m.\u001b[0m\u001b[1;33m\u001b[0m\u001b[1;33m\u001b[0m\u001b[0m\n\u001b[0;32m    275\u001b[0m         '''\n\u001b[1;32m--> 276\u001b[1;33m         \u001b[1;32mreturn\u001b[0m \u001b[0mself\u001b[0m\u001b[1;33m.\u001b[0m\u001b[0m_map_async\u001b[0m\u001b[1;33m(\u001b[0m\u001b[0mfunc\u001b[0m\u001b[1;33m,\u001b[0m \u001b[0miterable\u001b[0m\u001b[1;33m,\u001b[0m \u001b[0mstarmapstar\u001b[0m\u001b[1;33m,\u001b[0m \u001b[0mchunksize\u001b[0m\u001b[1;33m)\u001b[0m\u001b[1;33m.\u001b[0m\u001b[0mget\u001b[0m\u001b[1;33m(\u001b[0m\u001b[1;33m)\u001b[0m\u001b[1;33m\u001b[0m\u001b[1;33m\u001b[0m\u001b[0m\n\u001b[0m\u001b[0;32m    277\u001b[0m \u001b[1;33m\u001b[0m\u001b[0m\n\u001b[0;32m    278\u001b[0m     def starmap_async(self, func, iterable, chunksize=None, callback=None,\n",
      "\u001b[1;32mC:\\ProgramData\\Anaconda3\\lib\\site-packages\\multiprocess\\pool.py\u001b[0m in \u001b[0;36mget\u001b[1;34m(self, timeout)\u001b[0m\n\u001b[0;32m    655\u001b[0m             \u001b[1;32mreturn\u001b[0m \u001b[0mself\u001b[0m\u001b[1;33m.\u001b[0m\u001b[0m_value\u001b[0m\u001b[1;33m\u001b[0m\u001b[1;33m\u001b[0m\u001b[0m\n\u001b[0;32m    656\u001b[0m         \u001b[1;32melse\u001b[0m\u001b[1;33m:\u001b[0m\u001b[1;33m\u001b[0m\u001b[1;33m\u001b[0m\u001b[0m\n\u001b[1;32m--> 657\u001b[1;33m             \u001b[1;32mraise\u001b[0m \u001b[0mself\u001b[0m\u001b[1;33m.\u001b[0m\u001b[0m_value\u001b[0m\u001b[1;33m\u001b[0m\u001b[1;33m\u001b[0m\u001b[0m\n\u001b[0m\u001b[0;32m    658\u001b[0m \u001b[1;33m\u001b[0m\u001b[0m\n\u001b[0;32m    659\u001b[0m     \u001b[1;32mdef\u001b[0m \u001b[0m_set\u001b[0m\u001b[1;33m(\u001b[0m\u001b[0mself\u001b[0m\u001b[1;33m,\u001b[0m \u001b[0mi\u001b[0m\u001b[1;33m,\u001b[0m \u001b[0mobj\u001b[0m\u001b[1;33m)\u001b[0m\u001b[1;33m:\u001b[0m\u001b[1;33m\u001b[0m\u001b[1;33m\u001b[0m\u001b[0m\n",
      "\u001b[1;31mNameError\u001b[0m: name 'parse_card' is not defined"
     ]
    }
   ],
   "source": [
    "from multiprocess import Pool\n",
    "\n",
    "max_process_count = 10\n",
    "\n",
    "#we prepare the pool\n",
    "#pool in this context is like collection of available tabs\n",
    "pool = Pool(processes=max_process_count)\n",
    "\n",
    "#now we execute it\n",
    "#we use starmap instead of map because there are multiple arguments\n",
    "output = pool.starmap(get_covid_data, args)\n",
    "\n",
    "pool.close()\n",
    "pool.join()\n",
    "\n",
    "output"
   ]
  },
  {
   "cell_type": "markdown",
   "metadata": {},
   "source": [
    "## Multiprocessing: Encapsulation"
   ]
  },
  {
   "cell_type": "markdown",
   "metadata": {},
   "source": [
    "It doesn't work. It seems to not recognize the function from outside its scope. Multiprocessing always come with extra headache. Yes, multiprocessing can't use variables from global scope, but I just realized that this includes global functions. Maybe wrapping them in something will help?"
   ]
  },
  {
   "cell_type": "code",
   "execution_count": 28,
   "metadata": {},
   "outputs": [],
   "source": [
    "class Scrapper:\n",
    "    positif_fields = ['total', 'dirawat', 'sembuh', 'meninggal', 'rumah', 'gedung', 'rs']\n",
    "    odp_fields = ['total', 'belum_dipantau', 'dipantau', 'selesai_dipantau', 'meninggal', 'rumah', 'gedung', 'rs']\n",
    "    pdp_fields = ['total', 'belum_diawasi', 'dirawat', 'sehat', 'meninggal', 'rumah', 'gedung', 'rs']\n",
    "    \n",
    "    def __init__(self, endpoint=\"https://covid19dev.jatimprov.go.id/index.php/xweb/grafikpublik/\"):\n",
    "        self.endpoint = endpoint\n",
    "        \n",
    "        #multiprocess doesn't even recognize Scrapper type\n",
    "        self.positif_fields = Scrapper.positif_fields\n",
    "        self.odp_fields = Scrapper.odp_fields\n",
    "        self.pdp_fields = Scrapper.pdp_fields\n",
    "\n",
    "    def get_select_opts(self, r, query):\n",
    "        #find the select element\n",
    "        select = r.html.find(query)[0]\n",
    "        els = select.find(\"option\")\n",
    "        return els\n",
    "\n",
    "    def get_select_vals(self, r, query):\n",
    "        els = self.get_select_opts(r, query)\n",
    "        vals = [k.attrs[\"value\"] for k in els] \n",
    "        #we want to skip empty dates since they're useless, but not the empty kabko because it's the aggregate of all other kabko\n",
    "        #it's always the first item from a list\n",
    "        if 'kabko' not in query:\n",
    "            vals.pop(0)\n",
    "        return vals\n",
    "\n",
    "    def get_select_dicts(self, r, query):\n",
    "        els = self.get_select_opts(r, query)\n",
    "        dicts = [{k.attrs[\"value\"]:k.text} for k in els]\n",
    "        #we want to skip empty dates since they're useless, but not the empty kabko because it's the aggregate of all other kabko\n",
    "        #it's always the first item from a list\n",
    "        if 'kabko' not in query:\n",
    "            dicts.pop(0)\n",
    "        return dicts\n",
    "    \n",
    "    def parse_int(self, text):\n",
    "        if not text:\n",
    "            return 0\n",
    "        val = int(text)\n",
    "        return val\n",
    "\n",
    "    def parse_card(self, card, fields):\n",
    "        els = card.find(\"h3\")\n",
    "        vals = [self.parse_int(e.text) for e in els]\n",
    "        parsed = dict(zip(fields, vals))\n",
    "        return parsed\n",
    "    \n",
    "    def get_all_param_vals(self, dicts=False, params=['kabko', 'tanggal', 'sampai']):\n",
    "        session = HTMLSession()\n",
    "        r = session.get(self.endpoint)\n",
    "        f = self.get_select_vals\n",
    "        if dicts:\n",
    "            f = self.get_select_dicts\n",
    "        vals = dict([(p, f(r, \"#\"+p)) for p in params])\n",
    "        return vals\n",
    "    \n",
    "    def parse_date(self, date_str):\n",
    "        return datetime.strptime(date_str, \"%Y-%m-%d\").date()\n",
    "    \n",
    "    def format_date(self, date):\n",
    "        return datetime.strftime(date, \"%Y-%m-%d\")\n",
    "    \n",
    "    def get_new_dates(self, dates, after):\n",
    "        after = self.parse_date(after)\n",
    "        new_dates = [d for d in dates if d and parse_date(d) > after]\n",
    "        return new_dates\n",
    "    \n",
    "    def parse_card_single(self, card):\n",
    "        val = self.parse_int(card.find(\"h3\")[0].text)\n",
    "        return val\n",
    "    \n",
    "    def get_covid_data(self, kabko, tanggal, sampai=None):\n",
    "        from requests_html import HTMLSession\n",
    "        session = HTMLSession()\n",
    "        \n",
    "        #prepare the request\n",
    "        if not sampai:\n",
    "            sampai = tanggal\n",
    "        data = {\n",
    "            'kabko': kabko,\n",
    "            'tanggal': tanggal,\n",
    "            'sampai': sampai\n",
    "        }\n",
    "\n",
    "        #send request\n",
    "        r = session.post(self.endpoint, data=data)\n",
    "\n",
    "        #get cards\n",
    "        row = r.html.find(\".container .row\")[0]\n",
    "        card_groups = row.find(\"div.col-md-6\")[:2]\n",
    "        cards = card_groups[0].find(\"div.card\") + card_groups[1].find(\"div.card\")\n",
    "\n",
    "        #name the cards\n",
    "        positif_card = cards[0].find(\".card-block\")[0]\n",
    "        odp_card = cards[1].find(\".card-block\")[0]\n",
    "        pdp_card = cards[2].find(\".card-block\")[0]\n",
    "        otg_card = cards[3].find(\".card-body\")[0]\n",
    "        odr_card = cards[4].find(\".card-body\")[0]\n",
    "\n",
    "        #get and pack the values\n",
    "        vals = {\n",
    "            'kabko':kabko,\n",
    "            'tanggal':tanggal,\n",
    "            'sampai':sampai,\n",
    "            'positif':self.parse_card(odp_card, self.positif_fields),\n",
    "            'odp':self.parse_card(odp_card, self.odp_fields),\n",
    "            'pdp':self.parse_card(odp_card, self.pdp_fields),\n",
    "            'otg':self.parse_card_single(otg_card),\n",
    "            'odr':self.parse_card_single(odr_card)\n",
    "        }\n",
    "\n",
    "        return vals\n",
    "    \n",
    "    def get_covid_data_bulk(self, kabko, tanggal):\n",
    "        data = {k:{t:self.get_covid_data(k, t) for t in tanggal} for k in kabko}\n",
    "        return data\n",
    "    "
   ]
  },
  {
   "cell_type": "code",
   "execution_count": 29,
   "metadata": {},
   "outputs": [
    {
     "data": {
      "text/plain": [
       "14386"
      ]
     },
     "execution_count": 29,
     "metadata": {},
     "output_type": "execute_result"
    }
   ],
   "source": [
    "scrapper = Scrapper()\n",
    "scrapper.get_covid_data(\"\", \"2020-03-22\")['odr']"
   ]
  },
  {
   "cell_type": "code",
   "execution_count": 30,
   "metadata": {
    "scrolled": true
   },
   "outputs": [
    {
     "data": {
      "text/plain": [
       "[('', '2020-03-20'),\n",
       " ('- (STATUS PENDING)', '2020-03-20'),\n",
       " ('', '2020-03-21'),\n",
       " ('- (STATUS PENDING)', '2020-03-21')]"
      ]
     },
     "execution_count": 30,
     "metadata": {},
     "output_type": "execute_result"
    }
   ],
   "source": [
    "#prepare the args\n",
    "#get_covid_data(kabko, tanggal)\n",
    "args2 = [(k, t) for t in tanggal for k in kabko]\n",
    "\n",
    "args2"
   ]
  },
  {
   "cell_type": "code",
   "execution_count": 31,
   "metadata": {},
   "outputs": [
    {
     "data": {
      "text/plain": [
       "11025"
      ]
     },
     "execution_count": 31,
     "metadata": {},
     "output_type": "execute_result"
    }
   ],
   "source": [
    "scrapper.get_covid_data(*(args2[0]))['odr']"
   ]
  },
  {
   "cell_type": "code",
   "execution_count": 32,
   "metadata": {},
   "outputs": [
    {
     "data": {
      "text/plain": [
       "0"
      ]
     },
     "execution_count": 32,
     "metadata": {},
     "output_type": "execute_result"
    }
   ],
   "source": [
    "scrapper.get_covid_data(*(args2[1]))['odr']"
   ]
  },
  {
   "cell_type": "code",
   "execution_count": 33,
   "metadata": {},
   "outputs": [
    {
     "data": {
      "text/plain": [
       "13392"
      ]
     },
     "execution_count": 33,
     "metadata": {},
     "output_type": "execute_result"
    }
   ],
   "source": [
    "scrapper.get_covid_data(*(args2[2]))['odr']"
   ]
  },
  {
   "cell_type": "code",
   "execution_count": 34,
   "metadata": {
    "scrolled": true
   },
   "outputs": [
    {
     "data": {
      "text/plain": [
       "0"
      ]
     },
     "execution_count": 34,
     "metadata": {},
     "output_type": "execute_result"
    }
   ],
   "source": [
    "scrapper.get_covid_data(*(args2[3]))['odr']"
   ]
  },
  {
   "cell_type": "code",
   "execution_count": 35,
   "metadata": {
    "scrolled": false
   },
   "outputs": [
    {
     "data": {
      "text/plain": [
       "[{'kabko': '',\n",
       "  'tanggal': '2020-03-20',\n",
       "  'sampai': '2020-03-20',\n",
       "  'positif': {'total': 542,\n",
       "   'dirawat': 0,\n",
       "   'sembuh': 0,\n",
       "   'meninggal': 0,\n",
       "   'rumah': 0,\n",
       "   'gedung': 0,\n",
       "   'rs': 0},\n",
       "  'odp': {'total': 542,\n",
       "   'belum_dipantau': 0,\n",
       "   'dipantau': 0,\n",
       "   'selesai_dipantau': 0,\n",
       "   'meninggal': 0,\n",
       "   'rumah': 0,\n",
       "   'gedung': 0,\n",
       "   'rs': 0},\n",
       "  'pdp': {'total': 542,\n",
       "   'belum_diawasi': 0,\n",
       "   'dirawat': 0,\n",
       "   'sehat': 0,\n",
       "   'meninggal': 0,\n",
       "   'rumah': 0,\n",
       "   'gedung': 0,\n",
       "   'rs': 0},\n",
       "  'otg': 0,\n",
       "  'odr': 11025},\n",
       " {'kabko': '- (STATUS PENDING)',\n",
       "  'tanggal': '2020-03-20',\n",
       "  'sampai': '2020-03-20',\n",
       "  'positif': {'total': 0,\n",
       "   'dirawat': 0,\n",
       "   'sembuh': 0,\n",
       "   'meninggal': 0,\n",
       "   'rumah': 0,\n",
       "   'gedung': 0,\n",
       "   'rs': 0},\n",
       "  'odp': {'total': 0,\n",
       "   'belum_dipantau': 0,\n",
       "   'dipantau': 0,\n",
       "   'selesai_dipantau': 0,\n",
       "   'meninggal': 0,\n",
       "   'rumah': 0,\n",
       "   'gedung': 0,\n",
       "   'rs': 0},\n",
       "  'pdp': {'total': 0,\n",
       "   'belum_diawasi': 0,\n",
       "   'dirawat': 0,\n",
       "   'sehat': 0,\n",
       "   'meninggal': 0,\n",
       "   'rumah': 0,\n",
       "   'gedung': 0,\n",
       "   'rs': 0},\n",
       "  'otg': 0,\n",
       "  'odr': 0},\n",
       " {'kabko': '',\n",
       "  'tanggal': '2020-03-21',\n",
       "  'sampai': '2020-03-21',\n",
       "  'positif': {'total': 791,\n",
       "   'dirawat': 0,\n",
       "   'sembuh': 0,\n",
       "   'meninggal': 0,\n",
       "   'rumah': 0,\n",
       "   'gedung': 0,\n",
       "   'rs': 0},\n",
       "  'odp': {'total': 791,\n",
       "   'belum_dipantau': 0,\n",
       "   'dipantau': 0,\n",
       "   'selesai_dipantau': 0,\n",
       "   'meninggal': 0,\n",
       "   'rumah': 0,\n",
       "   'gedung': 0,\n",
       "   'rs': 0},\n",
       "  'pdp': {'total': 791,\n",
       "   'belum_diawasi': 0,\n",
       "   'dirawat': 0,\n",
       "   'sehat': 0,\n",
       "   'meninggal': 0,\n",
       "   'rumah': 0,\n",
       "   'gedung': 0,\n",
       "   'rs': 0},\n",
       "  'otg': 0,\n",
       "  'odr': 13392},\n",
       " {'kabko': '- (STATUS PENDING)',\n",
       "  'tanggal': '2020-03-21',\n",
       "  'sampai': '2020-03-21',\n",
       "  'positif': {'total': 0,\n",
       "   'dirawat': 0,\n",
       "   'sembuh': 0,\n",
       "   'meninggal': 0,\n",
       "   'rumah': 0,\n",
       "   'gedung': 0,\n",
       "   'rs': 0},\n",
       "  'odp': {'total': 0,\n",
       "   'belum_dipantau': 0,\n",
       "   'dipantau': 0,\n",
       "   'selesai_dipantau': 0,\n",
       "   'meninggal': 0,\n",
       "   'rumah': 0,\n",
       "   'gedung': 0,\n",
       "   'rs': 0},\n",
       "  'pdp': {'total': 0,\n",
       "   'belum_diawasi': 0,\n",
       "   'dirawat': 0,\n",
       "   'sehat': 0,\n",
       "   'meninggal': 0,\n",
       "   'rumah': 0,\n",
       "   'gedung': 0,\n",
       "   'rs': 0},\n",
       "  'otg': 0,\n",
       "  'odr': 0}]"
      ]
     },
     "execution_count": 35,
     "metadata": {},
     "output_type": "execute_result"
    }
   ],
   "source": [
    "#we prepare the pool\n",
    "#pool in this context is like collection of available tabs\n",
    "pool = Pool(processes=max_process_count)\n",
    "\n",
    "#now we execute it\n",
    "#we use starmap instead of map because there are multiple arguments\n",
    "output = pool.starmap(scrapper.get_covid_data, args2)\n",
    "\n",
    "pool.close()\n",
    "pool.join()\n",
    "\n",
    "output"
   ]
  },
  {
   "cell_type": "markdown",
   "metadata": {},
   "source": [
    "Hell yeah. However, it has yet to fill the dict."
   ]
  },
  {
   "cell_type": "code",
   "execution_count": 36,
   "metadata": {
    "scrolled": true
   },
   "outputs": [
    {
     "data": {
      "text/plain": [
       "{'': {'2020-03-20': None, '2020-03-21': None},\n",
       " '- (STATUS PENDING)': {'2020-03-20': None, '2020-03-21': None}}"
      ]
     },
     "execution_count": 36,
     "metadata": {},
     "output_type": "execute_result"
    }
   ],
   "source": [
    "data"
   ]
  },
  {
   "cell_type": "code",
   "execution_count": 37,
   "metadata": {
    "scrolled": true
   },
   "outputs": [
    {
     "data": {
      "text/plain": [
       "{'': {'2020-03-20': {'kabko': '',\n",
       "   'tanggal': '2020-03-20',\n",
       "   'sampai': '2020-03-20',\n",
       "   'positif': {'total': 542,\n",
       "    'dirawat': 0,\n",
       "    'sembuh': 0,\n",
       "    'meninggal': 0,\n",
       "    'rumah': 0,\n",
       "    'gedung': 0,\n",
       "    'rs': 0},\n",
       "   'odp': {'total': 542,\n",
       "    'belum_dipantau': 0,\n",
       "    'dipantau': 0,\n",
       "    'selesai_dipantau': 0,\n",
       "    'meninggal': 0,\n",
       "    'rumah': 0,\n",
       "    'gedung': 0,\n",
       "    'rs': 0},\n",
       "   'pdp': {'total': 542,\n",
       "    'belum_diawasi': 0,\n",
       "    'dirawat': 0,\n",
       "    'sehat': 0,\n",
       "    'meninggal': 0,\n",
       "    'rumah': 0,\n",
       "    'gedung': 0,\n",
       "    'rs': 0},\n",
       "   'otg': 0,\n",
       "   'odr': 11025},\n",
       "  '2020-03-21': {'kabko': '',\n",
       "   'tanggal': '2020-03-21',\n",
       "   'sampai': '2020-03-21',\n",
       "   'positif': {'total': 791,\n",
       "    'dirawat': 0,\n",
       "    'sembuh': 0,\n",
       "    'meninggal': 0,\n",
       "    'rumah': 0,\n",
       "    'gedung': 0,\n",
       "    'rs': 0},\n",
       "   'odp': {'total': 791,\n",
       "    'belum_dipantau': 0,\n",
       "    'dipantau': 0,\n",
       "    'selesai_dipantau': 0,\n",
       "    'meninggal': 0,\n",
       "    'rumah': 0,\n",
       "    'gedung': 0,\n",
       "    'rs': 0},\n",
       "   'pdp': {'total': 791,\n",
       "    'belum_diawasi': 0,\n",
       "    'dirawat': 0,\n",
       "    'sehat': 0,\n",
       "    'meninggal': 0,\n",
       "    'rumah': 0,\n",
       "    'gedung': 0,\n",
       "    'rs': 0},\n",
       "   'otg': 0,\n",
       "   'odr': 13392}},\n",
       " '- (STATUS PENDING)': {'2020-03-20': {'kabko': '- (STATUS PENDING)',\n",
       "   'tanggal': '2020-03-20',\n",
       "   'sampai': '2020-03-20',\n",
       "   'positif': {'total': 0,\n",
       "    'dirawat': 0,\n",
       "    'sembuh': 0,\n",
       "    'meninggal': 0,\n",
       "    'rumah': 0,\n",
       "    'gedung': 0,\n",
       "    'rs': 0},\n",
       "   'odp': {'total': 0,\n",
       "    'belum_dipantau': 0,\n",
       "    'dipantau': 0,\n",
       "    'selesai_dipantau': 0,\n",
       "    'meninggal': 0,\n",
       "    'rumah': 0,\n",
       "    'gedung': 0,\n",
       "    'rs': 0},\n",
       "   'pdp': {'total': 0,\n",
       "    'belum_diawasi': 0,\n",
       "    'dirawat': 0,\n",
       "    'sehat': 0,\n",
       "    'meninggal': 0,\n",
       "    'rumah': 0,\n",
       "    'gedung': 0,\n",
       "    'rs': 0},\n",
       "   'otg': 0,\n",
       "   'odr': 0},\n",
       "  '2020-03-21': {'kabko': '- (STATUS PENDING)',\n",
       "   'tanggal': '2020-03-21',\n",
       "   'sampai': '2020-03-21',\n",
       "   'positif': {'total': 0,\n",
       "    'dirawat': 0,\n",
       "    'sembuh': 0,\n",
       "    'meninggal': 0,\n",
       "    'rumah': 0,\n",
       "    'gedung': 0,\n",
       "    'rs': 0},\n",
       "   'odp': {'total': 0,\n",
       "    'belum_dipantau': 0,\n",
       "    'dipantau': 0,\n",
       "    'selesai_dipantau': 0,\n",
       "    'meninggal': 0,\n",
       "    'rumah': 0,\n",
       "    'gedung': 0,\n",
       "    'rs': 0},\n",
       "   'pdp': {'total': 0,\n",
       "    'belum_diawasi': 0,\n",
       "    'dirawat': 0,\n",
       "    'sehat': 0,\n",
       "    'meninggal': 0,\n",
       "    'rumah': 0,\n",
       "    'gedung': 0,\n",
       "    'rs': 0},\n",
       "   'otg': 0,\n",
       "   'odr': 0}}}"
      ]
     },
     "execution_count": 37,
     "metadata": {},
     "output_type": "execute_result"
    }
   ],
   "source": [
    "for o in output:\n",
    "    data[o['kabko']][o['sampai']] = o\n",
    "\n",
    "data"
   ]
  },
  {
   "cell_type": "markdown",
   "metadata": {},
   "source": [
    "## Parallel Bulk Scraping"
   ]
  },
  {
   "cell_type": "markdown",
   "metadata": {},
   "source": [
    "Now we only need to put them in a function."
   ]
  },
  {
   "cell_type": "code",
   "execution_count": 38,
   "metadata": {
    "scrolled": true
   },
   "outputs": [
    {
     "data": {
      "text/plain": [
       "<bound method get_covid_data_bulk_parallel of <__main__.Scrapper object at 0x0000000007F5B908>>"
      ]
     },
     "execution_count": 38,
     "metadata": {},
     "output_type": "execute_result"
    }
   ],
   "source": [
    "def get_covid_data_bulk_parallel(self, kabko, tanggal, max_process_count=10):\n",
    "    \n",
    "    #we might not need this after all, but whatever\n",
    "    data = {k:{t:None for t in tanggal} for k in kabko}\n",
    "    \n",
    "    #prepare the args\n",
    "    #get_covid_data(kabko, tanggal)\n",
    "    args = [(k, t) for t in tanggal for k in kabko]\n",
    "    \n",
    "    #we prepare the pool\n",
    "    #pool in this context is like collection of available tabs\n",
    "    pool = Pool(processes=max_process_count)\n",
    "\n",
    "    #now we execute it\n",
    "    #we use starmap instead of map because there are multiple arguments\n",
    "    output = pool.starmap(scrapper.get_covid_data, args)\n",
    "    pool.close()\n",
    "    pool.join()\n",
    "    \n",
    "    return output\n",
    "\n",
    "Scrapper.get_covid_data_bulk_parallel = get_covid_data_bulk_parallel\n",
    "scrapper = Scrapper()\n",
    "scrapper.get_covid_data_bulk_parallel"
   ]
  },
  {
   "cell_type": "markdown",
   "metadata": {},
   "source": [
    "Now we time it. We're getting 4 data so, let's be generous, it should be 2.5*4=10 seconds if it were synchronous."
   ]
  },
  {
   "cell_type": "code",
   "execution_count": 39,
   "metadata": {
    "scrolled": true
   },
   "outputs": [
    {
     "data": {
      "text/plain": [
       "5.064289808273315"
      ]
     },
     "execution_count": 39,
     "metadata": {},
     "output_type": "execute_result"
    }
   ],
   "source": [
    "f_timer(scrapper.get_covid_data_bulk_parallel, (kabko, tanggal))"
   ]
  },
  {
   "cell_type": "markdown",
   "metadata": {},
   "source": [
    "Wow, that's almost twice as fast as synchronous. Definitely an improvement worth the headache."
   ]
  },
  {
   "cell_type": "markdown",
   "metadata": {},
   "source": [
    "Next is the wrapper to return dictionaries."
   ]
  },
  {
   "cell_type": "code",
   "execution_count": 40,
   "metadata": {},
   "outputs": [
    {
     "data": {
      "text/plain": [
       "<bound method get_covid_data_bulk_parallel_dict_kabko of <__main__.Scrapper object at 0x0000000007E24488>>"
      ]
     },
     "execution_count": 40,
     "metadata": {},
     "output_type": "execute_result"
    }
   ],
   "source": [
    "def get_covid_data_bulk_parallel_dict_kabko(self, kabko, tanggal, max_process_count=10):\n",
    "    output = self.get_covid_data_bulk_parallel(kabko, tanggal, max_process_count)\n",
    "    \n",
    "    for o in output:\n",
    "        data[o['kabko']][o['sampai']] = o\n",
    "\n",
    "    return data\n",
    "\n",
    "Scrapper.get_covid_data_bulk_parallel_dict_kabko = get_covid_data_bulk_parallel_dict_kabko\n",
    "scrapper = Scrapper()\n",
    "scrapper.get_covid_data_bulk_parallel_dict_kabko"
   ]
  },
  {
   "cell_type": "code",
   "execution_count": 41,
   "metadata": {},
   "outputs": [
    {
     "data": {
      "text/plain": [
       "<bound method get_covid_data_bulk_parallel_dict_tanggal of <__main__.Scrapper object at 0x0000000007E245C8>>"
      ]
     },
     "execution_count": 41,
     "metadata": {},
     "output_type": "execute_result"
    }
   ],
   "source": [
    "def get_covid_data_bulk_parallel_dict_tanggal(self, kabko, tanggal, max_process_count=10):\n",
    "    output = self.get_covid_data_bulk_parallel(kabko, tanggal, max_process_count)\n",
    "    \n",
    "    for o in output:\n",
    "        data[o['sampai']][o['kabko']] = o\n",
    "\n",
    "    return data\n",
    "\n",
    "Scrapper.get_covid_data_bulk_parallel_dict_tanggal = get_covid_data_bulk_parallel_dict_tanggal\n",
    "scrapper = Scrapper()\n",
    "scrapper.get_covid_data_bulk_parallel_dict_tanggal"
   ]
  },
  {
   "cell_type": "code",
   "execution_count": 42,
   "metadata": {
    "scrolled": false
   },
   "outputs": [
    {
     "data": {
      "text/plain": [
       "[{'kabko': '',\n",
       "  'tanggal': '2020-03-20',\n",
       "  'sampai': '2020-03-20',\n",
       "  'positif': {'total': 542,\n",
       "   'dirawat': 0,\n",
       "   'sembuh': 0,\n",
       "   'meninggal': 0,\n",
       "   'rumah': 0,\n",
       "   'gedung': 0,\n",
       "   'rs': 0},\n",
       "  'odp': {'total': 542,\n",
       "   'belum_dipantau': 0,\n",
       "   'dipantau': 0,\n",
       "   'selesai_dipantau': 0,\n",
       "   'meninggal': 0,\n",
       "   'rumah': 0,\n",
       "   'gedung': 0,\n",
       "   'rs': 0},\n",
       "  'pdp': {'total': 542,\n",
       "   'belum_diawasi': 0,\n",
       "   'dirawat': 0,\n",
       "   'sehat': 0,\n",
       "   'meninggal': 0,\n",
       "   'rumah': 0,\n",
       "   'gedung': 0,\n",
       "   'rs': 0},\n",
       "  'otg': 0,\n",
       "  'odr': 11025},\n",
       " {'kabko': '- (STATUS PENDING)',\n",
       "  'tanggal': '2020-03-20',\n",
       "  'sampai': '2020-03-20',\n",
       "  'positif': {'total': 0,\n",
       "   'dirawat': 0,\n",
       "   'sembuh': 0,\n",
       "   'meninggal': 0,\n",
       "   'rumah': 0,\n",
       "   'gedung': 0,\n",
       "   'rs': 0},\n",
       "  'odp': {'total': 0,\n",
       "   'belum_dipantau': 0,\n",
       "   'dipantau': 0,\n",
       "   'selesai_dipantau': 0,\n",
       "   'meninggal': 0,\n",
       "   'rumah': 0,\n",
       "   'gedung': 0,\n",
       "   'rs': 0},\n",
       "  'pdp': {'total': 0,\n",
       "   'belum_diawasi': 0,\n",
       "   'dirawat': 0,\n",
       "   'sehat': 0,\n",
       "   'meninggal': 0,\n",
       "   'rumah': 0,\n",
       "   'gedung': 0,\n",
       "   'rs': 0},\n",
       "  'otg': 0,\n",
       "  'odr': 0},\n",
       " {'kabko': '',\n",
       "  'tanggal': '2020-03-21',\n",
       "  'sampai': '2020-03-21',\n",
       "  'positif': {'total': 791,\n",
       "   'dirawat': 0,\n",
       "   'sembuh': 0,\n",
       "   'meninggal': 0,\n",
       "   'rumah': 0,\n",
       "   'gedung': 0,\n",
       "   'rs': 0},\n",
       "  'odp': {'total': 791,\n",
       "   'belum_dipantau': 0,\n",
       "   'dipantau': 0,\n",
       "   'selesai_dipantau': 0,\n",
       "   'meninggal': 0,\n",
       "   'rumah': 0,\n",
       "   'gedung': 0,\n",
       "   'rs': 0},\n",
       "  'pdp': {'total': 791,\n",
       "   'belum_diawasi': 0,\n",
       "   'dirawat': 0,\n",
       "   'sehat': 0,\n",
       "   'meninggal': 0,\n",
       "   'rumah': 0,\n",
       "   'gedung': 0,\n",
       "   'rs': 0},\n",
       "  'otg': 0,\n",
       "  'odr': 13392},\n",
       " {'kabko': '- (STATUS PENDING)',\n",
       "  'tanggal': '2020-03-21',\n",
       "  'sampai': '2020-03-21',\n",
       "  'positif': {'total': 0,\n",
       "   'dirawat': 0,\n",
       "   'sembuh': 0,\n",
       "   'meninggal': 0,\n",
       "   'rumah': 0,\n",
       "   'gedung': 0,\n",
       "   'rs': 0},\n",
       "  'odp': {'total': 0,\n",
       "   'belum_dipantau': 0,\n",
       "   'dipantau': 0,\n",
       "   'selesai_dipantau': 0,\n",
       "   'meninggal': 0,\n",
       "   'rumah': 0,\n",
       "   'gedung': 0,\n",
       "   'rs': 0},\n",
       "  'pdp': {'total': 0,\n",
       "   'belum_diawasi': 0,\n",
       "   'dirawat': 0,\n",
       "   'sehat': 0,\n",
       "   'meninggal': 0,\n",
       "   'rumah': 0,\n",
       "   'gedung': 0,\n",
       "   'rs': 0},\n",
       "  'otg': 0,\n",
       "  'odr': 0}]"
      ]
     },
     "execution_count": 42,
     "metadata": {},
     "output_type": "execute_result"
    }
   ],
   "source": [
    "scrapper.get_covid_data_bulk_parallel(kabko, tanggal)"
   ]
  },
  {
   "cell_type": "markdown",
   "metadata": {},
   "source": [
    "## Bulk Scraping: All"
   ]
  },
  {
   "cell_type": "markdown",
   "metadata": {},
   "source": [
    "Next, make one for all data. However we will not be testing this here since it will take a very long time."
   ]
  },
  {
   "cell_type": "code",
   "execution_count": 43,
   "metadata": {
    "scrolled": true
   },
   "outputs": [
    {
     "data": {
      "text/plain": [
       "<bound method get_covid_data_all of <__main__.Scrapper object at 0x000000000866BCC8>>"
      ]
     },
     "execution_count": 43,
     "metadata": {},
     "output_type": "execute_result"
    }
   ],
   "source": [
    "def get_covid_data_all(self, parallel=True):\n",
    "    params = self.get_all_param_vals()\n",
    "    f = self.get_covid_data_bulk_parallel\n",
    "    if not parallel:\n",
    "        f = self.get_covid_data_bulk\n",
    "    data = f(params['kabko'], params['sampai'])\n",
    "    return data\n",
    "\n",
    "Scrapper.get_covid_data_all = get_covid_data_all\n",
    "scrapper = Scrapper()\n",
    "scrapper.get_covid_data_all"
   ]
  },
  {
   "cell_type": "markdown",
   "metadata": {},
   "source": [
    "## Bulk Scraping: New"
   ]
  },
  {
   "cell_type": "markdown",
   "metadata": {},
   "source": [
    "Finally, make one for new data. We'll test this one first before testing getting all data."
   ]
  },
  {
   "cell_type": "code",
   "execution_count": 44,
   "metadata": {},
   "outputs": [
    {
     "data": {
      "text/plain": [
       "<bound method get_covid_data_new of <__main__.Scrapper object at 0x0000000007E241C8>>"
      ]
     },
     "execution_count": 44,
     "metadata": {},
     "output_type": "execute_result"
    }
   ],
   "source": [
    "def get_covid_data_new(self, after, parallel=True):\n",
    "    params = self.get_all_param_vals()\n",
    "    new_dates = get_new_dates(params['sampai'], after)\n",
    "    f = self.get_covid_data_bulk_parallel\n",
    "    if not parallel:\n",
    "        f = self.get_covid_data_bulk\n",
    "    data = f(params['kabko'], new_dates)\n",
    "    return data\n",
    "\n",
    "Scrapper.get_covid_data_new = get_covid_data_new\n",
    "scrapper = Scrapper()\n",
    "scrapper.get_covid_data_new"
   ]
  },
  {
   "cell_type": "markdown",
   "metadata": {},
   "source": [
    "Now let's test it. We will use the second to last date so we'll be getting data from the last date. This will take a few minutes (41 data)"
   ]
  },
  {
   "cell_type": "code",
   "execution_count": 45,
   "metadata": {},
   "outputs": [
    {
     "data": {
      "text/plain": [
       "[{'kabko': '',\n",
       "  'tanggal': '2020-06-26',\n",
       "  'sampai': '2020-06-26',\n",
       "  'positif': {'total': 29166,\n",
       "   'dirawat': 0,\n",
       "   'sembuh': 5116,\n",
       "   'meninggal': 23885,\n",
       "   'rumah': 165,\n",
       "   'gedung': 4863,\n",
       "   'rs': 1},\n",
       "  'odp': {'total': 29166,\n",
       "   'belum_dipantau': 0,\n",
       "   'dipantau': 5116,\n",
       "   'selesai_dipantau': 23885,\n",
       "   'meninggal': 165,\n",
       "   'rumah': 4863,\n",
       "   'gedung': 1,\n",
       "   'rs': 252},\n",
       "  'pdp': {'total': 29166,\n",
       "   'belum_diawasi': 0,\n",
       "   'dirawat': 5116,\n",
       "   'sehat': 23885,\n",
       "   'meninggal': 165,\n",
       "   'rumah': 4863,\n",
       "   'gedung': 1,\n",
       "   'rs': 252},\n",
       "  'otg': 161636,\n",
       "  'odr': 616435},\n",
       " {'kabko': '- (STATUS PENDING)',\n",
       "  'tanggal': '2020-06-26',\n",
       "  'sampai': '2020-06-26',\n",
       "  'positif': {'total': 0,\n",
       "   'dirawat': 0,\n",
       "   'sembuh': 0,\n",
       "   'meninggal': 0,\n",
       "   'rumah': 0,\n",
       "   'gedung': 0,\n",
       "   'rs': 0},\n",
       "  'odp': {'total': 0,\n",
       "   'belum_dipantau': 0,\n",
       "   'dipantau': 0,\n",
       "   'selesai_dipantau': 0,\n",
       "   'meninggal': 0,\n",
       "   'rumah': 0,\n",
       "   'gedung': 0,\n",
       "   'rs': 0},\n",
       "  'pdp': {'total': 0,\n",
       "   'belum_diawasi': 0,\n",
       "   'dirawat': 0,\n",
       "   'sehat': 0,\n",
       "   'meninggal': 0,\n",
       "   'rumah': 0,\n",
       "   'gedung': 0,\n",
       "   'rs': 0},\n",
       "  'otg': 0,\n",
       "  'odr': 0},\n",
       " {'kabko': 'AWAK BUAH KAPAL',\n",
       "  'tanggal': '2020-06-26',\n",
       "  'sampai': '2020-06-26',\n",
       "  'positif': {'total': 0,\n",
       "   'dirawat': 0,\n",
       "   'sembuh': 0,\n",
       "   'meninggal': 0,\n",
       "   'rumah': 0,\n",
       "   'gedung': 0,\n",
       "   'rs': 0},\n",
       "  'odp': {'total': 0,\n",
       "   'belum_dipantau': 0,\n",
       "   'dipantau': 0,\n",
       "   'selesai_dipantau': 0,\n",
       "   'meninggal': 0,\n",
       "   'rumah': 0,\n",
       "   'gedung': 0,\n",
       "   'rs': 0},\n",
       "  'pdp': {'total': 0,\n",
       "   'belum_diawasi': 0,\n",
       "   'dirawat': 0,\n",
       "   'sehat': 0,\n",
       "   'meninggal': 0,\n",
       "   'rumah': 0,\n",
       "   'gedung': 0,\n",
       "   'rs': 0},\n",
       "  'otg': 0,\n",
       "  'odr': 0},\n",
       " {'kabko': 'KAB. BANGKALAN',\n",
       "  'tanggal': '2020-06-26',\n",
       "  'sampai': '2020-06-26',\n",
       "  'positif': {'total': 1060,\n",
       "   'dirawat': 0,\n",
       "   'sembuh': 619,\n",
       "   'meninggal': 441,\n",
       "   'rumah': 0,\n",
       "   'gedung': 591,\n",
       "   'rs': 0},\n",
       "  'odp': {'total': 1060,\n",
       "   'belum_dipantau': 0,\n",
       "   'dipantau': 619,\n",
       "   'selesai_dipantau': 441,\n",
       "   'meninggal': 0,\n",
       "   'rumah': 591,\n",
       "   'gedung': 0,\n",
       "   'rs': 28},\n",
       "  'pdp': {'total': 1060,\n",
       "   'belum_diawasi': 0,\n",
       "   'dirawat': 619,\n",
       "   'sehat': 441,\n",
       "   'meninggal': 0,\n",
       "   'rumah': 591,\n",
       "   'gedung': 0,\n",
       "   'rs': 28},\n",
       "  'otg': 1136,\n",
       "  'odr': 20291},\n",
       " {'kabko': 'KAB. BANYUWANGI',\n",
       "  'tanggal': '2020-06-26',\n",
       "  'sampai': '2020-06-26',\n",
       "  'positif': {'total': 901,\n",
       "   'dirawat': 0,\n",
       "   'sembuh': 17,\n",
       "   'meninggal': 882,\n",
       "   'rumah': 2,\n",
       "   'gedung': 17,\n",
       "   'rs': 0},\n",
       "  'odp': {'total': 901,\n",
       "   'belum_dipantau': 0,\n",
       "   'dipantau': 17,\n",
       "   'selesai_dipantau': 882,\n",
       "   'meninggal': 2,\n",
       "   'rumah': 17,\n",
       "   'gedung': 0,\n",
       "   'rs': 0},\n",
       "  'pdp': {'total': 901,\n",
       "   'belum_diawasi': 0,\n",
       "   'dirawat': 17,\n",
       "   'sehat': 882,\n",
       "   'meninggal': 2,\n",
       "   'rumah': 17,\n",
       "   'gedung': 0,\n",
       "   'rs': 0},\n",
       "  'otg': 509,\n",
       "  'odr': 9314},\n",
       " {'kabko': 'KAB. BLITAR',\n",
       "  'tanggal': '2020-06-26',\n",
       "  'sampai': '2020-06-26',\n",
       "  'positif': {'total': 998,\n",
       "   'dirawat': 0,\n",
       "   'sembuh': 36,\n",
       "   'meninggal': 938,\n",
       "   'rumah': 24,\n",
       "   'gedung': 25,\n",
       "   'rs': 0},\n",
       "  'odp': {'total': 998,\n",
       "   'belum_dipantau': 0,\n",
       "   'dipantau': 36,\n",
       "   'selesai_dipantau': 938,\n",
       "   'meninggal': 24,\n",
       "   'rumah': 25,\n",
       "   'gedung': 0,\n",
       "   'rs': 11},\n",
       "  'pdp': {'total': 998,\n",
       "   'belum_diawasi': 0,\n",
       "   'dirawat': 36,\n",
       "   'sehat': 938,\n",
       "   'meninggal': 24,\n",
       "   'rumah': 25,\n",
       "   'gedung': 0,\n",
       "   'rs': 11},\n",
       "  'otg': 394,\n",
       "  'odr': 26010},\n",
       " {'kabko': 'KAB. BOJONEGORO',\n",
       "  'tanggal': '2020-06-26',\n",
       "  'sampai': '2020-06-26',\n",
       "  'positif': {'total': 279,\n",
       "   'dirawat': 0,\n",
       "   'sembuh': 25,\n",
       "   'meninggal': 251,\n",
       "   'rumah': 3,\n",
       "   'gedung': 25,\n",
       "   'rs': 0},\n",
       "  'odp': {'total': 279,\n",
       "   'belum_dipantau': 0,\n",
       "   'dipantau': 25,\n",
       "   'selesai_dipantau': 251,\n",
       "   'meninggal': 3,\n",
       "   'rumah': 25,\n",
       "   'gedung': 0,\n",
       "   'rs': 0},\n",
       "  'pdp': {'total': 279,\n",
       "   'belum_diawasi': 0,\n",
       "   'dirawat': 25,\n",
       "   'sehat': 251,\n",
       "   'meninggal': 3,\n",
       "   'rumah': 25,\n",
       "   'gedung': 0,\n",
       "   'rs': 0},\n",
       "  'otg': 357,\n",
       "  'odr': 42858},\n",
       " {'kabko': 'KAB. BONDOWOSO',\n",
       "  'tanggal': '2020-06-26',\n",
       "  'sampai': '2020-06-26',\n",
       "  'positif': {'total': 1172,\n",
       "   'dirawat': 0,\n",
       "   'sembuh': 82,\n",
       "   'meninggal': 1087,\n",
       "   'rumah': 3,\n",
       "   'gedung': 82,\n",
       "   'rs': 0},\n",
       "  'odp': {'total': 1172,\n",
       "   'belum_dipantau': 0,\n",
       "   'dipantau': 82,\n",
       "   'selesai_dipantau': 1087,\n",
       "   'meninggal': 3,\n",
       "   'rumah': 82,\n",
       "   'gedung': 0,\n",
       "   'rs': 0},\n",
       "  'pdp': {'total': 1172,\n",
       "   'belum_diawasi': 0,\n",
       "   'dirawat': 82,\n",
       "   'sehat': 1087,\n",
       "   'meninggal': 3,\n",
       "   'rumah': 82,\n",
       "   'gedung': 0,\n",
       "   'rs': 0},\n",
       "  'otg': 279,\n",
       "  'odr': 14730},\n",
       " {'kabko': 'KAB. GRESIK',\n",
       "  'tanggal': '2020-06-26',\n",
       "  'sampai': '2020-06-26',\n",
       "  'positif': {'total': 1332,\n",
       "   'dirawat': 0,\n",
       "   'sembuh': 182,\n",
       "   'meninggal': 1150,\n",
       "   'rumah': 0,\n",
       "   'gedung': 182,\n",
       "   'rs': 0},\n",
       "  'odp': {'total': 1332,\n",
       "   'belum_dipantau': 0,\n",
       "   'dipantau': 182,\n",
       "   'selesai_dipantau': 1150,\n",
       "   'meninggal': 0,\n",
       "   'rumah': 182,\n",
       "   'gedung': 0,\n",
       "   'rs': 0},\n",
       "  'pdp': {'total': 1332,\n",
       "   'belum_diawasi': 0,\n",
       "   'dirawat': 182,\n",
       "   'sehat': 1150,\n",
       "   'meninggal': 0,\n",
       "   'rumah': 182,\n",
       "   'gedung': 0,\n",
       "   'rs': 0},\n",
       "  'otg': 300,\n",
       "  'odr': 1148},\n",
       " {'kabko': 'KAB. JEMBER',\n",
       "  'tanggal': '2020-06-26',\n",
       "  'sampai': '2020-06-26',\n",
       "  'positif': {'total': 1309,\n",
       "   'dirawat': 0,\n",
       "   'sembuh': 299,\n",
       "   'meninggal': 989,\n",
       "   'rumah': 21,\n",
       "   'gedung': 260,\n",
       "   'rs': 0},\n",
       "  'odp': {'total': 1309,\n",
       "   'belum_dipantau': 0,\n",
       "   'dipantau': 299,\n",
       "   'selesai_dipantau': 989,\n",
       "   'meninggal': 21,\n",
       "   'rumah': 260,\n",
       "   'gedung': 0,\n",
       "   'rs': 39},\n",
       "  'pdp': {'total': 1309,\n",
       "   'belum_diawasi': 0,\n",
       "   'dirawat': 299,\n",
       "   'sehat': 989,\n",
       "   'meninggal': 21,\n",
       "   'rumah': 260,\n",
       "   'gedung': 0,\n",
       "   'rs': 39},\n",
       "  'otg': 1844,\n",
       "  'odr': 38345},\n",
       " {'kabko': 'KAB. JOMBANG',\n",
       "  'tanggal': '2020-06-26',\n",
       "  'sampai': '2020-06-26',\n",
       "  'positif': {'total': 702,\n",
       "   'dirawat': 0,\n",
       "   'sembuh': 27,\n",
       "   'meninggal': 672,\n",
       "   'rumah': 3,\n",
       "   'gedung': 26,\n",
       "   'rs': 0},\n",
       "  'odp': {'total': 702,\n",
       "   'belum_dipantau': 0,\n",
       "   'dipantau': 27,\n",
       "   'selesai_dipantau': 672,\n",
       "   'meninggal': 3,\n",
       "   'rumah': 26,\n",
       "   'gedung': 0,\n",
       "   'rs': 1},\n",
       "  'pdp': {'total': 702,\n",
       "   'belum_diawasi': 0,\n",
       "   'dirawat': 27,\n",
       "   'sehat': 672,\n",
       "   'meninggal': 3,\n",
       "   'rumah': 26,\n",
       "   'gedung': 0,\n",
       "   'rs': 1},\n",
       "  'otg': 1211,\n",
       "  'odr': 14406},\n",
       " {'kabko': 'KAB. KEDIRI',\n",
       "  'tanggal': '2020-06-26',\n",
       "  'sampai': '2020-06-26',\n",
       "  'positif': {'total': 1294,\n",
       "   'dirawat': 0,\n",
       "   'sembuh': 260,\n",
       "   'meninggal': 1029,\n",
       "   'rumah': 5,\n",
       "   'gedung': 260,\n",
       "   'rs': 0},\n",
       "  'odp': {'total': 1294,\n",
       "   'belum_dipantau': 0,\n",
       "   'dipantau': 260,\n",
       "   'selesai_dipantau': 1029,\n",
       "   'meninggal': 5,\n",
       "   'rumah': 260,\n",
       "   'gedung': 0,\n",
       "   'rs': 0},\n",
       "  'pdp': {'total': 1294,\n",
       "   'belum_diawasi': 0,\n",
       "   'dirawat': 260,\n",
       "   'sehat': 1029,\n",
       "   'meninggal': 5,\n",
       "   'rumah': 260,\n",
       "   'gedung': 0,\n",
       "   'rs': 0},\n",
       "  'otg': 2005,\n",
       "  'odr': 25377},\n",
       " {'kabko': 'KAB. LAMONGAN',\n",
       "  'tanggal': '2020-06-26',\n",
       "  'sampai': '2020-06-26',\n",
       "  'positif': {'total': 553,\n",
       "   'dirawat': 0,\n",
       "   'sembuh': 33,\n",
       "   'meninggal': 518,\n",
       "   'rumah': 2,\n",
       "   'gedung': 31,\n",
       "   'rs': 0},\n",
       "  'odp': {'total': 553,\n",
       "   'belum_dipantau': 0,\n",
       "   'dipantau': 33,\n",
       "   'selesai_dipantau': 518,\n",
       "   'meninggal': 2,\n",
       "   'rumah': 31,\n",
       "   'gedung': 0,\n",
       "   'rs': 2},\n",
       "  'pdp': {'total': 553,\n",
       "   'belum_diawasi': 0,\n",
       "   'dirawat': 33,\n",
       "   'sehat': 518,\n",
       "   'meninggal': 2,\n",
       "   'rumah': 31,\n",
       "   'gedung': 0,\n",
       "   'rs': 2},\n",
       "  'otg': 932,\n",
       "  'odr': 49826},\n",
       " {'kabko': 'KAB. LUMAJANG',\n",
       "  'tanggal': '2020-06-26',\n",
       "  'sampai': '2020-06-26',\n",
       "  'positif': {'total': 424,\n",
       "   'dirawat': 0,\n",
       "   'sembuh': 17,\n",
       "   'meninggal': 403,\n",
       "   'rumah': 4,\n",
       "   'gedung': 17,\n",
       "   'rs': 0},\n",
       "  'odp': {'total': 424,\n",
       "   'belum_dipantau': 0,\n",
       "   'dipantau': 17,\n",
       "   'selesai_dipantau': 403,\n",
       "   'meninggal': 4,\n",
       "   'rumah': 17,\n",
       "   'gedung': 0,\n",
       "   'rs': 0},\n",
       "  'pdp': {'total': 424,\n",
       "   'belum_diawasi': 0,\n",
       "   'dirawat': 17,\n",
       "   'sehat': 403,\n",
       "   'meninggal': 4,\n",
       "   'rumah': 17,\n",
       "   'gedung': 0,\n",
       "   'rs': 0},\n",
       "  'otg': 728,\n",
       "  'odr': 19852},\n",
       " {'kabko': 'KAB. MADIUN',\n",
       "  'tanggal': '2020-06-26',\n",
       "  'sampai': '2020-06-26',\n",
       "  'positif': {'total': 369,\n",
       "   'dirawat': 0,\n",
       "   'sembuh': 2,\n",
       "   'meninggal': 367,\n",
       "   'rumah': 0,\n",
       "   'gedung': 2,\n",
       "   'rs': 0},\n",
       "  'odp': {'total': 369,\n",
       "   'belum_dipantau': 0,\n",
       "   'dipantau': 2,\n",
       "   'selesai_dipantau': 367,\n",
       "   'meninggal': 0,\n",
       "   'rumah': 2,\n",
       "   'gedung': 0,\n",
       "   'rs': 0},\n",
       "  'pdp': {'total': 369,\n",
       "   'belum_diawasi': 0,\n",
       "   'dirawat': 2,\n",
       "   'sehat': 367,\n",
       "   'meninggal': 0,\n",
       "   'rumah': 2,\n",
       "   'gedung': 0,\n",
       "   'rs': 0},\n",
       "  'otg': 947,\n",
       "  'odr': 719},\n",
       " {'kabko': 'KAB. MAGETAN',\n",
       "  'tanggal': '2020-06-26',\n",
       "  'sampai': '2020-06-26',\n",
       "  'positif': {'total': 373,\n",
       "   'dirawat': 0,\n",
       "   'sembuh': 44,\n",
       "   'meninggal': 317,\n",
       "   'rumah': 12,\n",
       "   'gedung': 31,\n",
       "   'rs': 0},\n",
       "  'odp': {'total': 373,\n",
       "   'belum_dipantau': 0,\n",
       "   'dipantau': 44,\n",
       "   'selesai_dipantau': 317,\n",
       "   'meninggal': 12,\n",
       "   'rumah': 31,\n",
       "   'gedung': 0,\n",
       "   'rs': 13},\n",
       "  'pdp': {'total': 373,\n",
       "   'belum_diawasi': 0,\n",
       "   'dirawat': 44,\n",
       "   'sehat': 317,\n",
       "   'meninggal': 12,\n",
       "   'rumah': 31,\n",
       "   'gedung': 0,\n",
       "   'rs': 13},\n",
       "  'otg': 233,\n",
       "  'odr': 269},\n",
       " {'kabko': 'KAB. MALANG',\n",
       "  'tanggal': '2020-06-26',\n",
       "  'sampai': '2020-06-26',\n",
       "  'positif': {'total': 523,\n",
       "   'dirawat': 0,\n",
       "   'sembuh': 26,\n",
       "   'meninggal': 492,\n",
       "   'rumah': 5,\n",
       "   'gedung': 21,\n",
       "   'rs': 0},\n",
       "  'odp': {'total': 523,\n",
       "   'belum_dipantau': 0,\n",
       "   'dipantau': 26,\n",
       "   'selesai_dipantau': 492,\n",
       "   'meninggal': 5,\n",
       "   'rumah': 21,\n",
       "   'gedung': 0,\n",
       "   'rs': 5},\n",
       "  'pdp': {'total': 523,\n",
       "   'belum_diawasi': 0,\n",
       "   'dirawat': 26,\n",
       "   'sehat': 492,\n",
       "   'meninggal': 5,\n",
       "   'rumah': 21,\n",
       "   'gedung': 0,\n",
       "   'rs': 5},\n",
       "  'otg': 428,\n",
       "  'odr': 2841},\n",
       " {'kabko': 'KAB. MOJOKERTO',\n",
       "  'tanggal': '2020-06-26',\n",
       "  'sampai': '2020-06-26',\n",
       "  'positif': {'total': 583,\n",
       "   'dirawat': 0,\n",
       "   'sembuh': 232,\n",
       "   'meninggal': 351,\n",
       "   'rumah': 0,\n",
       "   'gedung': 232,\n",
       "   'rs': 0},\n",
       "  'odp': {'total': 583,\n",
       "   'belum_dipantau': 0,\n",
       "   'dipantau': 232,\n",
       "   'selesai_dipantau': 351,\n",
       "   'meninggal': 0,\n",
       "   'rumah': 232,\n",
       "   'gedung': 0,\n",
       "   'rs': 0},\n",
       "  'pdp': {'total': 583,\n",
       "   'belum_diawasi': 0,\n",
       "   'dirawat': 232,\n",
       "   'sehat': 351,\n",
       "   'meninggal': 0,\n",
       "   'rumah': 232,\n",
       "   'gedung': 0,\n",
       "   'rs': 0},\n",
       "  'otg': 93,\n",
       "  'odr': 13513},\n",
       " {'kabko': 'KAB. NGANJUK',\n",
       "  'tanggal': '2020-06-26',\n",
       "  'sampai': '2020-06-26',\n",
       "  'positif': {'total': 106,\n",
       "   'dirawat': 0,\n",
       "   'sembuh': 6,\n",
       "   'meninggal': 99,\n",
       "   'rumah': 1,\n",
       "   'gedung': 1,\n",
       "   'rs': 0},\n",
       "  'odp': {'total': 106,\n",
       "   'belum_dipantau': 0,\n",
       "   'dipantau': 6,\n",
       "   'selesai_dipantau': 99,\n",
       "   'meninggal': 1,\n",
       "   'rumah': 1,\n",
       "   'gedung': 0,\n",
       "   'rs': 5},\n",
       "  'pdp': {'total': 106,\n",
       "   'belum_diawasi': 0,\n",
       "   'dirawat': 6,\n",
       "   'sehat': 99,\n",
       "   'meninggal': 1,\n",
       "   'rumah': 1,\n",
       "   'gedung': 0,\n",
       "   'rs': 5},\n",
       "  'otg': 2096,\n",
       "  'odr': 45062},\n",
       " {'kabko': 'KAB. NGAWI',\n",
       "  'tanggal': '2020-06-26',\n",
       "  'sampai': '2020-06-26',\n",
       "  'positif': {'total': 351,\n",
       "   'dirawat': 0,\n",
       "   'sembuh': 12,\n",
       "   'meninggal': 333,\n",
       "   'rumah': 6,\n",
       "   'gedung': 7,\n",
       "   'rs': 0},\n",
       "  'odp': {'total': 351,\n",
       "   'belum_dipantau': 0,\n",
       "   'dipantau': 12,\n",
       "   'selesai_dipantau': 333,\n",
       "   'meninggal': 6,\n",
       "   'rumah': 7,\n",
       "   'gedung': 0,\n",
       "   'rs': 5},\n",
       "  'pdp': {'total': 351,\n",
       "   'belum_diawasi': 0,\n",
       "   'dirawat': 12,\n",
       "   'sehat': 333,\n",
       "   'meninggal': 6,\n",
       "   'rumah': 7,\n",
       "   'gedung': 0,\n",
       "   'rs': 5},\n",
       "  'otg': 477,\n",
       "  'odr': 36677},\n",
       " {'kabko': 'KAB. PACITAN',\n",
       "  'tanggal': '2020-06-26',\n",
       "  'sampai': '2020-06-26',\n",
       "  'positif': {'total': 656,\n",
       "   'dirawat': 0,\n",
       "   'sembuh': 24,\n",
       "   'meninggal': 631,\n",
       "   'rumah': 1,\n",
       "   'gedung': 22,\n",
       "   'rs': 0},\n",
       "  'odp': {'total': 656,\n",
       "   'belum_dipantau': 0,\n",
       "   'dipantau': 24,\n",
       "   'selesai_dipantau': 631,\n",
       "   'meninggal': 1,\n",
       "   'rumah': 22,\n",
       "   'gedung': 0,\n",
       "   'rs': 2},\n",
       "  'pdp': {'total': 656,\n",
       "   'belum_diawasi': 0,\n",
       "   'dirawat': 24,\n",
       "   'sehat': 631,\n",
       "   'meninggal': 1,\n",
       "   'rumah': 22,\n",
       "   'gedung': 0,\n",
       "   'rs': 2},\n",
       "  'otg': 591,\n",
       "  'odr': 24150},\n",
       " {'kabko': 'KAB. PAMEKASAN',\n",
       "  'tanggal': '2020-06-26',\n",
       "  'sampai': '2020-06-26',\n",
       "  'positif': {'total': 579,\n",
       "   'dirawat': 0,\n",
       "   'sembuh': 73,\n",
       "   'meninggal': 506,\n",
       "   'rumah': 0,\n",
       "   'gedung': 73,\n",
       "   'rs': 0},\n",
       "  'odp': {'total': 579,\n",
       "   'belum_dipantau': 0,\n",
       "   'dipantau': 73,\n",
       "   'selesai_dipantau': 506,\n",
       "   'meninggal': 0,\n",
       "   'rumah': 73,\n",
       "   'gedung': 0,\n",
       "   'rs': 0},\n",
       "  'pdp': {'total': 579,\n",
       "   'belum_diawasi': 0,\n",
       "   'dirawat': 73,\n",
       "   'sehat': 506,\n",
       "   'meninggal': 0,\n",
       "   'rumah': 73,\n",
       "   'gedung': 0,\n",
       "   'rs': 0},\n",
       "  'otg': 846,\n",
       "  'odr': 444},\n",
       " {'kabko': 'KAB. PASURUAN',\n",
       "  'tanggal': '2020-06-26',\n",
       "  'sampai': '2020-06-26',\n",
       "  'positif': {'total': 1360,\n",
       "   'dirawat': 0,\n",
       "   'sembuh': 1082,\n",
       "   'meninggal': 278,\n",
       "   'rumah': 0,\n",
       "   'gedung': 1082,\n",
       "   'rs': 0},\n",
       "  'odp': {'total': 1360,\n",
       "   'belum_dipantau': 0,\n",
       "   'dipantau': 1082,\n",
       "   'selesai_dipantau': 278,\n",
       "   'meninggal': 0,\n",
       "   'rumah': 1082,\n",
       "   'gedung': 0,\n",
       "   'rs': 0},\n",
       "  'pdp': {'total': 1360,\n",
       "   'belum_diawasi': 0,\n",
       "   'dirawat': 1082,\n",
       "   'sehat': 278,\n",
       "   'meninggal': 0,\n",
       "   'rumah': 1082,\n",
       "   'gedung': 0,\n",
       "   'rs': 0},\n",
       "  'otg': 949,\n",
       "  'odr': 3138},\n",
       " {'kabko': 'KAB. PONOROGO',\n",
       "  'tanggal': '2020-06-26',\n",
       "  'sampai': '2020-06-26',\n",
       "  'positif': {'total': 456,\n",
       "   'dirawat': 0,\n",
       "   'sembuh': 27,\n",
       "   'meninggal': 429,\n",
       "   'rumah': 0,\n",
       "   'gedung': 24,\n",
       "   'rs': 0},\n",
       "  'odp': {'total': 456,\n",
       "   'belum_dipantau': 0,\n",
       "   'dipantau': 27,\n",
       "   'selesai_dipantau': 429,\n",
       "   'meninggal': 0,\n",
       "   'rumah': 24,\n",
       "   'gedung': 0,\n",
       "   'rs': 3},\n",
       "  'pdp': {'total': 456,\n",
       "   'belum_diawasi': 0,\n",
       "   'dirawat': 27,\n",
       "   'sehat': 429,\n",
       "   'meninggal': 0,\n",
       "   'rumah': 24,\n",
       "   'gedung': 0,\n",
       "   'rs': 3},\n",
       "  'otg': 357,\n",
       "  'odr': 25147},\n",
       " {'kabko': 'KAB. PROBOLINGGO',\n",
       "  'tanggal': '2020-06-26',\n",
       "  'sampai': '2020-06-26',\n",
       "  'positif': {'total': 502,\n",
       "   'dirawat': 0,\n",
       "   'sembuh': 12,\n",
       "   'meninggal': 483,\n",
       "   'rumah': 7,\n",
       "   'gedung': 3,\n",
       "   'rs': 0},\n",
       "  'odp': {'total': 502,\n",
       "   'belum_dipantau': 0,\n",
       "   'dipantau': 12,\n",
       "   'selesai_dipantau': 483,\n",
       "   'meninggal': 7,\n",
       "   'rumah': 3,\n",
       "   'gedung': 0,\n",
       "   'rs': 9},\n",
       "  'pdp': {'total': 502,\n",
       "   'belum_diawasi': 0,\n",
       "   'dirawat': 12,\n",
       "   'sehat': 483,\n",
       "   'meninggal': 7,\n",
       "   'rumah': 3,\n",
       "   'gedung': 0,\n",
       "   'rs': 9},\n",
       "  'otg': 1198,\n",
       "  'odr': 7668},\n",
       " {'kabko': 'KAB. SAMPANG',\n",
       "  'tanggal': '2020-06-26',\n",
       "  'sampai': '2020-06-26',\n",
       "  'positif': {'total': 543,\n",
       "   'dirawat': 0,\n",
       "   'sembuh': 97,\n",
       "   'meninggal': 446,\n",
       "   'rumah': 0,\n",
       "   'gedung': 97,\n",
       "   'rs': 0},\n",
       "  'odp': {'total': 543,\n",
       "   'belum_dipantau': 0,\n",
       "   'dipantau': 97,\n",
       "   'selesai_dipantau': 446,\n",
       "   'meninggal': 0,\n",
       "   'rumah': 97,\n",
       "   'gedung': 0,\n",
       "   'rs': 0},\n",
       "  'pdp': {'total': 543,\n",
       "   'belum_diawasi': 0,\n",
       "   'dirawat': 97,\n",
       "   'sehat': 446,\n",
       "   'meninggal': 0,\n",
       "   'rumah': 97,\n",
       "   'gedung': 0,\n",
       "   'rs': 0},\n",
       "  'otg': 93,\n",
       "  'odr': 37882},\n",
       " {'kabko': 'KAB. SIDOARJO',\n",
       "  'tanggal': '2020-06-26',\n",
       "  'sampai': '2020-06-26',\n",
       "  'positif': {'total': 1350,\n",
       "   'dirawat': 0,\n",
       "   'sembuh': 247,\n",
       "   'meninggal': 1099,\n",
       "   'rumah': 4,\n",
       "   'gedung': 186,\n",
       "   'rs': 0},\n",
       "  'odp': {'total': 1350,\n",
       "   'belum_dipantau': 0,\n",
       "   'dipantau': 247,\n",
       "   'selesai_dipantau': 1099,\n",
       "   'meninggal': 4,\n",
       "   'rumah': 186,\n",
       "   'gedung': 0,\n",
       "   'rs': 61},\n",
       "  'pdp': {'total': 1350,\n",
       "   'belum_diawasi': 0,\n",
       "   'dirawat': 247,\n",
       "   'sehat': 1099,\n",
       "   'meninggal': 4,\n",
       "   'rumah': 186,\n",
       "   'gedung': 0,\n",
       "   'rs': 61},\n",
       "  'otg': 4803,\n",
       "  'odr': 635},\n",
       " {'kabko': 'KAB. SITUBONDO',\n",
       "  'tanggal': '2020-06-26',\n",
       "  'sampai': '2020-06-26',\n",
       "  'positif': {'total': 486,\n",
       "   'dirawat': 0,\n",
       "   'sembuh': 30,\n",
       "   'meninggal': 455,\n",
       "   'rumah': 1,\n",
       "   'gedung': 21,\n",
       "   'rs': 0},\n",
       "  'odp': {'total': 486,\n",
       "   'belum_dipantau': 0,\n",
       "   'dipantau': 30,\n",
       "   'selesai_dipantau': 455,\n",
       "   'meninggal': 1,\n",
       "   'rumah': 21,\n",
       "   'gedung': 0,\n",
       "   'rs': 9},\n",
       "  'pdp': {'total': 486,\n",
       "   'belum_diawasi': 0,\n",
       "   'dirawat': 30,\n",
       "   'sehat': 455,\n",
       "   'meninggal': 1,\n",
       "   'rumah': 21,\n",
       "   'gedung': 0,\n",
       "   'rs': 9},\n",
       "  'otg': 706,\n",
       "  'odr': 7440},\n",
       " {'kabko': 'KAB. SUMENEP',\n",
       "  'tanggal': '2020-06-26',\n",
       "  'sampai': '2020-06-26',\n",
       "  'positif': {'total': 367,\n",
       "   'dirawat': 0,\n",
       "   'sembuh': 4,\n",
       "   'meninggal': 360,\n",
       "   'rumah': 3,\n",
       "   'gedung': 4,\n",
       "   'rs': 0},\n",
       "  'odp': {'total': 367,\n",
       "   'belum_dipantau': 0,\n",
       "   'dipantau': 4,\n",
       "   'selesai_dipantau': 360,\n",
       "   'meninggal': 3,\n",
       "   'rumah': 4,\n",
       "   'gedung': 0,\n",
       "   'rs': 0},\n",
       "  'pdp': {'total': 367,\n",
       "   'belum_diawasi': 0,\n",
       "   'dirawat': 4,\n",
       "   'sehat': 360,\n",
       "   'meninggal': 3,\n",
       "   'rumah': 4,\n",
       "   'gedung': 0,\n",
       "   'rs': 0},\n",
       "  'otg': 64,\n",
       "  'odr': 37102},\n",
       " {'kabko': 'KAB. TRENGGALEK',\n",
       "  'tanggal': '2020-06-26',\n",
       "  'sampai': '2020-06-26',\n",
       "  'positif': {'total': 917,\n",
       "   'dirawat': 0,\n",
       "   'sembuh': 21,\n",
       "   'meninggal': 896,\n",
       "   'rumah': 0,\n",
       "   'gedung': 20,\n",
       "   'rs': 0},\n",
       "  'odp': {'total': 917,\n",
       "   'belum_dipantau': 0,\n",
       "   'dipantau': 21,\n",
       "   'selesai_dipantau': 896,\n",
       "   'meninggal': 0,\n",
       "   'rumah': 20,\n",
       "   'gedung': 0,\n",
       "   'rs': 1},\n",
       "  'pdp': {'total': 917,\n",
       "   'belum_diawasi': 0,\n",
       "   'dirawat': 21,\n",
       "   'sehat': 896,\n",
       "   'meninggal': 0,\n",
       "   'rumah': 20,\n",
       "   'gedung': 0,\n",
       "   'rs': 1},\n",
       "  'otg': 287,\n",
       "  'odr': 40339},\n",
       " {'kabko': 'KAB. TUBAN',\n",
       "  'tanggal': '2020-06-26',\n",
       "  'sampai': '2020-06-26',\n",
       "  'positif': {'total': 654,\n",
       "   'dirawat': 0,\n",
       "   'sembuh': 31,\n",
       "   'meninggal': 620,\n",
       "   'rumah': 3,\n",
       "   'gedung': 31,\n",
       "   'rs': 0},\n",
       "  'odp': {'total': 654,\n",
       "   'belum_dipantau': 0,\n",
       "   'dipantau': 31,\n",
       "   'selesai_dipantau': 620,\n",
       "   'meninggal': 3,\n",
       "   'rumah': 31,\n",
       "   'gedung': 0,\n",
       "   'rs': 0},\n",
       "  'pdp': {'total': 654,\n",
       "   'belum_diawasi': 0,\n",
       "   'dirawat': 31,\n",
       "   'sehat': 620,\n",
       "   'meninggal': 3,\n",
       "   'rumah': 31,\n",
       "   'gedung': 0,\n",
       "   'rs': 0},\n",
       "  'otg': 958,\n",
       "  'odr': 23292},\n",
       " {'kabko': 'KAB. TULUNGAGUNG',\n",
       "  'tanggal': '2020-06-26',\n",
       "  'sampai': '2020-06-26',\n",
       "  'positif': {'total': 1517,\n",
       "   'dirawat': 0,\n",
       "   'sembuh': 856,\n",
       "   'meninggal': 655,\n",
       "   'rumah': 6,\n",
       "   'gedung': 842,\n",
       "   'rs': 0},\n",
       "  'odp': {'total': 1517,\n",
       "   'belum_dipantau': 0,\n",
       "   'dipantau': 856,\n",
       "   'selesai_dipantau': 655,\n",
       "   'meninggal': 6,\n",
       "   'rumah': 842,\n",
       "   'gedung': 0,\n",
       "   'rs': 14},\n",
       "  'pdp': {'total': 1517,\n",
       "   'belum_diawasi': 0,\n",
       "   'dirawat': 856,\n",
       "   'sehat': 655,\n",
       "   'meninggal': 6,\n",
       "   'rumah': 842,\n",
       "   'gedung': 0,\n",
       "   'rs': 14},\n",
       "  'otg': 955,\n",
       "  'odr': 14043},\n",
       " {'kabko': 'KOTA BATU',\n",
       "  'tanggal': '2020-06-26',\n",
       "  'sampai': '2020-06-26',\n",
       "  'positif': {'total': 324,\n",
       "   'dirawat': 0,\n",
       "   'sembuh': 22,\n",
       "   'meninggal': 302,\n",
       "   'rumah': 0,\n",
       "   'gedung': 22,\n",
       "   'rs': 0},\n",
       "  'odp': {'total': 324,\n",
       "   'belum_dipantau': 0,\n",
       "   'dipantau': 22,\n",
       "   'selesai_dipantau': 302,\n",
       "   'meninggal': 0,\n",
       "   'rumah': 22,\n",
       "   'gedung': 0,\n",
       "   'rs': 0},\n",
       "  'pdp': {'total': 324,\n",
       "   'belum_diawasi': 0,\n",
       "   'dirawat': 22,\n",
       "   'sehat': 302,\n",
       "   'meninggal': 0,\n",
       "   'rumah': 22,\n",
       "   'gedung': 0,\n",
       "   'rs': 0},\n",
       "  'otg': 394,\n",
       "  'odr': 7557},\n",
       " {'kabko': 'KOTA BLITAR',\n",
       "  'tanggal': '2020-06-26',\n",
       "  'sampai': '2020-06-26',\n",
       "  'positif': {'total': 214,\n",
       "   'dirawat': 0,\n",
       "   'sembuh': 4,\n",
       "   'meninggal': 208,\n",
       "   'rumah': 2,\n",
       "   'gedung': 4,\n",
       "   'rs': 0},\n",
       "  'odp': {'total': 214,\n",
       "   'belum_dipantau': 0,\n",
       "   'dipantau': 4,\n",
       "   'selesai_dipantau': 208,\n",
       "   'meninggal': 2,\n",
       "   'rumah': 4,\n",
       "   'gedung': 0,\n",
       "   'rs': 0},\n",
       "  'pdp': {'total': 214,\n",
       "   'belum_diawasi': 0,\n",
       "   'dirawat': 4,\n",
       "   'sehat': 208,\n",
       "   'meninggal': 2,\n",
       "   'rumah': 4,\n",
       "   'gedung': 0,\n",
       "   'rs': 0},\n",
       "  'otg': 139,\n",
       "  'odr': 2620},\n",
       " {'kabko': 'KOTA KEDIRI',\n",
       "  'tanggal': '2020-06-26',\n",
       "  'sampai': '2020-06-26',\n",
       "  'positif': {'total': 338,\n",
       "   'dirawat': 0,\n",
       "   'sembuh': 5,\n",
       "   'meninggal': 326,\n",
       "   'rumah': 7,\n",
       "   'gedung': 2,\n",
       "   'rs': 0},\n",
       "  'odp': {'total': 338,\n",
       "   'belum_dipantau': 0,\n",
       "   'dipantau': 5,\n",
       "   'selesai_dipantau': 326,\n",
       "   'meninggal': 7,\n",
       "   'rumah': 2,\n",
       "   'gedung': 0,\n",
       "   'rs': 3},\n",
       "  'pdp': {'total': 338,\n",
       "   'belum_diawasi': 0,\n",
       "   'dirawat': 5,\n",
       "   'sehat': 326,\n",
       "   'meninggal': 7,\n",
       "   'rumah': 2,\n",
       "   'gedung': 0,\n",
       "   'rs': 3},\n",
       "  'otg': 600,\n",
       "  'odr': 3996},\n",
       " {'kabko': 'KOTA MADIUN',\n",
       "  'tanggal': '2020-06-26',\n",
       "  'sampai': '2020-06-26',\n",
       "  'positif': {'total': 76,\n",
       "   'dirawat': 0,\n",
       "   'sembuh': 5,\n",
       "   'meninggal': 69,\n",
       "   'rumah': 2,\n",
       "   'gedung': 5,\n",
       "   'rs': 0},\n",
       "  'odp': {'total': 76,\n",
       "   'belum_dipantau': 0,\n",
       "   'dipantau': 5,\n",
       "   'selesai_dipantau': 69,\n",
       "   'meninggal': 2,\n",
       "   'rumah': 5,\n",
       "   'gedung': 0,\n",
       "   'rs': 0},\n",
       "  'pdp': {'total': 76,\n",
       "   'belum_diawasi': 0,\n",
       "   'dirawat': 5,\n",
       "   'sehat': 69,\n",
       "   'meninggal': 2,\n",
       "   'rumah': 5,\n",
       "   'gedung': 0,\n",
       "   'rs': 0},\n",
       "  'otg': 213,\n",
       "  'odr': 1512},\n",
       " {'kabko': 'KOTA MALANG',\n",
       "  'tanggal': '2020-06-26',\n",
       "  'sampai': '2020-06-26',\n",
       "  'positif': {'total': 984,\n",
       "   'dirawat': 0,\n",
       "   'sembuh': 52,\n",
       "   'meninggal': 930,\n",
       "   'rumah': 2,\n",
       "   'gedung': 41,\n",
       "   'rs': 0},\n",
       "  'odp': {'total': 984,\n",
       "   'belum_dipantau': 0,\n",
       "   'dipantau': 52,\n",
       "   'selesai_dipantau': 930,\n",
       "   'meninggal': 2,\n",
       "   'rumah': 41,\n",
       "   'gedung': 0,\n",
       "   'rs': 11},\n",
       "  'pdp': {'total': 984,\n",
       "   'belum_diawasi': 0,\n",
       "   'dirawat': 52,\n",
       "   'sehat': 930,\n",
       "   'meninggal': 2,\n",
       "   'rumah': 41,\n",
       "   'gedung': 0,\n",
       "   'rs': 11},\n",
       "  'otg': 629,\n",
       "  'odr': 2844},\n",
       " {'kabko': 'KOTA MOJOKERTO',\n",
       "  'tanggal': '2020-06-26',\n",
       "  'sampai': '2020-06-26',\n",
       "  'positif': {'total': 653,\n",
       "   'dirawat': 0,\n",
       "   'sembuh': 153,\n",
       "   'meninggal': 500,\n",
       "   'rumah': 0,\n",
       "   'gedung': 152,\n",
       "   'rs': 0},\n",
       "  'odp': {'total': 653,\n",
       "   'belum_dipantau': 0,\n",
       "   'dipantau': 153,\n",
       "   'selesai_dipantau': 500,\n",
       "   'meninggal': 0,\n",
       "   'rumah': 152,\n",
       "   'gedung': 0,\n",
       "   'rs': 1},\n",
       "  'pdp': {'total': 653,\n",
       "   'belum_diawasi': 0,\n",
       "   'dirawat': 153,\n",
       "   'sehat': 500,\n",
       "   'meninggal': 0,\n",
       "   'rumah': 152,\n",
       "   'gedung': 0,\n",
       "   'rs': 1},\n",
       "  'otg': 101,\n",
       "  'odr': 5117},\n",
       " {'kabko': 'KOTA PASURUAN',\n",
       "  'tanggal': '2020-06-26',\n",
       "  'sampai': '2020-06-26',\n",
       "  'positif': {'total': 128,\n",
       "   'dirawat': 0,\n",
       "   'sembuh': 14,\n",
       "   'meninggal': 114,\n",
       "   'rumah': 0,\n",
       "   'gedung': 14,\n",
       "   'rs': 0},\n",
       "  'odp': {'total': 128,\n",
       "   'belum_dipantau': 0,\n",
       "   'dipantau': 14,\n",
       "   'selesai_dipantau': 114,\n",
       "   'meninggal': 0,\n",
       "   'rumah': 14,\n",
       "   'gedung': 0,\n",
       "   'rs': 0},\n",
       "  'pdp': {'total': 128,\n",
       "   'belum_diawasi': 0,\n",
       "   'dirawat': 14,\n",
       "   'sehat': 114,\n",
       "   'meninggal': 0,\n",
       "   'rumah': 14,\n",
       "   'gedung': 0,\n",
       "   'rs': 0},\n",
       "  'otg': 211,\n",
       "  'odr': 1445},\n",
       " {'kabko': 'KOTA PROBOLINGGO',\n",
       "  'tanggal': '2020-06-26',\n",
       "  'sampai': '2020-06-26',\n",
       "  'positif': {'total': 371,\n",
       "   'dirawat': 0,\n",
       "   'sembuh': 13,\n",
       "   'meninggal': 358,\n",
       "   'rumah': 0,\n",
       "   'gedung': 12,\n",
       "   'rs': 1},\n",
       "  'odp': {'total': 371,\n",
       "   'belum_dipantau': 0,\n",
       "   'dipantau': 13,\n",
       "   'selesai_dipantau': 358,\n",
       "   'meninggal': 0,\n",
       "   'rumah': 12,\n",
       "   'gedung': 1,\n",
       "   'rs': 0},\n",
       "  'pdp': {'total': 371,\n",
       "   'belum_diawasi': 0,\n",
       "   'dirawat': 13,\n",
       "   'sehat': 358,\n",
       "   'meninggal': 0,\n",
       "   'rumah': 12,\n",
       "   'gedung': 1,\n",
       "   'rs': 0},\n",
       "  'otg': 704,\n",
       "  'odr': 1483},\n",
       " {'kabko': 'KOTA SURABAYA',\n",
       "  'tanggal': '2020-06-26',\n",
       "  'sampai': '2020-06-26',\n",
       "  'positif': {'total': 4362,\n",
       "   'dirawat': 0,\n",
       "   'sembuh': 425,\n",
       "   'meninggal': 3901,\n",
       "   'rumah': 36,\n",
       "   'gedung': 396,\n",
       "   'rs': 0},\n",
       "  'odp': {'total': 4362,\n",
       "   'belum_dipantau': 0,\n",
       "   'dipantau': 425,\n",
       "   'selesai_dipantau': 3901,\n",
       "   'meninggal': 36,\n",
       "   'rumah': 396,\n",
       "   'gedung': 0,\n",
       "   'rs': 29},\n",
       "  'pdp': {'total': 4362,\n",
       "   'belum_diawasi': 0,\n",
       "   'dirawat': 425,\n",
       "   'sehat': 3901,\n",
       "   'meninggal': 36,\n",
       "   'rumah': 396,\n",
       "   'gedung': 0,\n",
       "   'rs': 29},\n",
       "  'otg': 132869,\n",
       "  'odr': 7343}]"
      ]
     },
     "execution_count": 45,
     "metadata": {},
     "output_type": "execute_result"
    }
   ],
   "source": [
    "yesterday = params['tanggal'][-2]\n",
    "start = time.time()\n",
    "data = scrapper.get_covid_data_new(yesterday)\n",
    "end = time.time()\n",
    "data"
   ]
  },
  {
   "cell_type": "code",
   "execution_count": 46,
   "metadata": {},
   "outputs": [
    {
     "data": {
      "text/plain": [
       "20.982200145721436"
      ]
     },
     "execution_count": 46,
     "metadata": {},
     "output_type": "execute_result"
    }
   ],
   "source": [
    "end-start"
   ]
  },
  {
   "cell_type": "markdown",
   "metadata": {},
   "source": [
    "Hey, that's really fast. Might want to adjust the max processor count."
   ]
  },
  {
   "cell_type": "markdown",
   "metadata": {},
   "source": [
    "This concludes the main data scraping. "
   ]
  },
  {
   "cell_type": "code",
   "execution_count": null,
   "metadata": {},
   "outputs": [],
   "source": []
  }
 ],
 "metadata": {
  "kernelspec": {
   "display_name": "Python 3",
   "language": "python",
   "name": "python3"
  },
  "language_info": {
   "codemirror_mode": {
    "name": "ipython",
    "version": 3
   },
   "file_extension": ".py",
   "mimetype": "text/x-python",
   "name": "python",
   "nbconvert_exporter": "python",
   "pygments_lexer": "ipython3",
   "version": "3.7.6"
  }
 },
 "nbformat": 4,
 "nbformat_minor": 4
}
