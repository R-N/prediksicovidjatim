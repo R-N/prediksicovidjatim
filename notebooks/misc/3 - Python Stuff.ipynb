{
 "cells": [
  {
   "cell_type": "markdown",
   "metadata": {},
   "source": [
    "# Python Stuff"
   ]
  },
  {
   "cell_type": "markdown",
   "metadata": {},
   "source": [
    "## Naming Conventions"
   ]
  },
  {
   "cell_type": "markdown",
   "metadata": {},
   "source": [
    "- Package: lower_snake_case\n",
    "- Module: lower_snake_case\n",
    "- Class: PascalCase\n",
    "- Exception Class: Should end with \"Error\"\n",
    "- Variable: snake_case\n",
    "- Method/Function: lower_snake_case\n",
    "- Instance Method: first argument should be self\n",
    "- Class Method: first argument should be cls\n",
    "- Non-Public Variable/Method: Should start with _\n",
    "- Mangled Variable/Method: May start with __\n",
    "- Constants: UPPER_SNAKE_CASE"
   ]
  },
  {
   "cell_type": "markdown",
   "metadata": {},
   "source": [
    "- When using PascalCase names, capitalize all letters of an abbreviation (e.g. HTTPServer)"
   ]
  },
  {
   "cell_type": "code",
   "execution_count": null,
   "metadata": {},
   "outputs": [],
   "source": []
  }
 ],
 "metadata": {
  "kernelspec": {
   "display_name": "Python 3",
   "language": "python",
   "name": "python3"
  },
  "language_info": {
   "codemirror_mode": {
    "name": "ipython",
    "version": 3
   },
   "file_extension": ".py",
   "mimetype": "text/x-python",
   "name": "python",
   "nbconvert_exporter": "python",
   "pygments_lexer": "ipython3",
   "version": "3.7.6"
  }
 },
 "nbformat": 4,
 "nbformat_minor": 4
}
